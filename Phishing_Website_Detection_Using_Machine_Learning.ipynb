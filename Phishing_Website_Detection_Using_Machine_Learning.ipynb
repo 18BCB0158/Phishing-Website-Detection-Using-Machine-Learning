{
  "nbformat": 4,
  "nbformat_minor": 0,
  "metadata": {
    "colab": {
      "name": "Phishing Website Detection Using Machine Learning ",
      "private_outputs": true,
      "provenance": [],
      "collapsed_sections": []
    },
    "kernelspec": {
      "display_name": "Python 3",
      "name": "python3"
    },
    "language_info": {
      "name": "python"
    }
  },
  "cells": [
    {
      "cell_type": "markdown",
      "metadata": {
        "id": "B2EBCOk409L0"
      },
      "source": [
        "<font color='Blue'> **Phishing Website Detection using Machine Learning Different Algorithms**</font>"
      ]
    },
    {
      "cell_type": "markdown",
      "metadata": {
        "id": "W21yLqN8m_fJ"
      },
      "source": [
        "**Import The All packages**"
      ]
    },
    {
      "cell_type": "code",
      "metadata": {
        "id": "fDt551dUZjrF"
      },
      "source": [
        "import pandas as pd\n",
        "import numpy as np\n",
        "import matplotlib.pyplot  as plt\n",
        "from sklearn.model_selection import train_test_split\n",
        "from sklearn.feature_extraction.text import TfidfVectorizer, CountVectorizer\n",
        "import seaborn as sns\n",
        "from utils import generate_data_set"
      ],
      "execution_count": null,
      "outputs": []
    },
    {
      "cell_type": "markdown",
      "metadata": {
        "id": "KbvLPO2XnJK2"
      },
      "source": [
        "**Load the dataset**"
      ]
    },
    {
      "cell_type": "code",
      "metadata": {
        "id": "2SibYPXvZtKQ"
      },
      "source": [
        "df=pd.read_csv(\"drive/My Drive/Ai/dataset.csv\")"
      ],
      "execution_count": null,
      "outputs": []
    },
    {
      "cell_type": "markdown",
      "metadata": {
        "id": "WOqn_KmKnQgU"
      },
      "source": [
        "**Display the top 5 rows**"
      ]
    },
    {
      "cell_type": "code",
      "metadata": {
        "id": "Z4hflimJaKQe"
      },
      "source": [
        "df.head()"
      ],
      "execution_count": null,
      "outputs": []
    },
    {
      "cell_type": "markdown",
      "metadata": {
        "id": "qizIjJLonXkc"
      },
      "source": [
        "**Display the last 5 rows**"
      ]
    },
    {
      "cell_type": "code",
      "metadata": {
        "id": "5aN3mm38acbL"
      },
      "source": [
        "df.tail()"
      ],
      "execution_count": null,
      "outputs": []
    },
    {
      "cell_type": "markdown",
      "metadata": {
        "id": "O-M4Ij5Cnd7R"
      },
      "source": [
        "**Display the no of rows & columns**"
      ]
    },
    {
      "cell_type": "code",
      "metadata": {
        "id": "4otBo-L0ajQd"
      },
      "source": [
        "df.shape"
      ],
      "execution_count": null,
      "outputs": []
    },
    {
      "cell_type": "markdown",
      "metadata": {
        "id": "epp-spthnl_z"
      },
      "source": [
        "**Correlation Co-efficients of all the features or attributes**"
      ]
    },
    {
      "cell_type": "code",
      "metadata": {
        "id": "4ZPP5Z0wcW6F"
      },
      "source": [
        "print(df.corr()['Result'].sort_values())"
      ],
      "execution_count": null,
      "outputs": []
    },
    {
      "cell_type": "markdown",
      "metadata": {
        "id": "ximlCv8KnxB3"
      },
      "source": [
        "**Display the correlation matrix**"
      ]
    },
    {
      "cell_type": "code",
      "metadata": {
        "id": "LOCp9orhcZiz"
      },
      "source": [
        "plt.figure(figsize=(30,30))\n",
        "sns.heatmap(df.corr(),linewidths=.5 ,annot=True)\n",
        "plt.title(\"Correlation Matrix for Phishing Website\")\n",
        "plt.show()"
      ],
      "execution_count": null,
      "outputs": []
    },
    {
      "cell_type": "markdown",
      "metadata": {
        "id": "WuoSsm1moDPy"
      },
      "source": [
        "**Display the some statstical concepts**"
      ]
    },
    {
      "cell_type": "code",
      "metadata": {
        "id": "O8-xqWmralO-"
      },
      "source": [
        "df.describe()"
      ],
      "execution_count": null,
      "outputs": []
    },
    {
      "cell_type": "code",
      "metadata": {
        "id": "14rHjF_vanhy"
      },
      "source": [
        "df.info()"
      ],
      "execution_count": null,
      "outputs": []
    },
    {
      "cell_type": "markdown",
      "metadata": {
        "id": "6dZInMT5oMng"
      },
      "source": [
        "**Display the missing values of all columns**"
      ]
    },
    {
      "cell_type": "code",
      "metadata": {
        "id": "fJSSlnINassn"
      },
      "source": [
        "df.isnull().sum()"
      ],
      "execution_count": null,
      "outputs": []
    },
    {
      "cell_type": "markdown",
      "metadata": {
        "id": "c_C9La44oXbF"
      },
      "source": [
        "**Drop the index column**"
      ]
    },
    {
      "cell_type": "code",
      "metadata": {
        "id": "g-ed3kjBa5-R"
      },
      "source": [
        "df=df.drop(columns='index')"
      ],
      "execution_count": null,
      "outputs": []
    },
    {
      "cell_type": "code",
      "metadata": {
        "id": "f_XLFQIgbCQC"
      },
      "source": [
        "df[\"Result\"]=df[\"Result\"].replace(-1,0)"
      ],
      "execution_count": null,
      "outputs": []
    },
    {
      "cell_type": "code",
      "metadata": {
        "id": "d_nVTFWsbYZl"
      },
      "source": [
        "df[\"Result\"].head()"
      ],
      "execution_count": null,
      "outputs": []
    },
    {
      "cell_type": "code",
      "metadata": {
        "id": "3SCLdG1Nbfa_"
      },
      "source": [
        "df.head()"
      ],
      "execution_count": null,
      "outputs": []
    },
    {
      "cell_type": "code",
      "metadata": {
        "id": "e9LYWon-EME5"
      },
      "source": [
        "df=df.drop(columns=\"Submitting_to_email\")"
      ],
      "execution_count": null,
      "outputs": []
    },
    {
      "cell_type": "code",
      "metadata": {
        "id": "UemVMSDKb6Xb"
      },
      "source": [
        "df['Result'].unique()"
      ],
      "execution_count": null,
      "outputs": []
    },
    {
      "cell_type": "code",
      "metadata": {
        "id": "xPdiyNCNSQSJ"
      },
      "source": [
        "df.head(5)"
      ],
      "execution_count": null,
      "outputs": []
    },
    {
      "cell_type": "markdown",
      "metadata": {
        "id": "G7R6wGekogKG"
      },
      "source": [
        "**Display the counterplot for all the columns**"
      ]
    },
    {
      "cell_type": "code",
      "metadata": {
        "id": "N2_qFsHre7Vr"
      },
      "source": [
        "df1 = df.select_dtypes([np.int, np.float])\n",
        "for i, col in enumerate(df1.columns):\n",
        "    plt.figure(i)\n",
        "    sns.countplot(x=col, data=df1)"
      ],
      "execution_count": null,
      "outputs": []
    },
    {
      "cell_type": "markdown",
      "metadata": {
        "id": "otdVpf2YooZW"
      },
      "source": [
        "**Assign the values for X and Y**"
      ]
    },
    {
      "cell_type": "code",
      "metadata": {
        "id": "skuIgnl4SeNm"
      },
      "source": [
        "X=df.drop(columns='Result')\n",
        "Y=df['Result']\n",
        "Y=pd.DataFrame(Y)\n",
        "Y.head(5)"
      ],
      "execution_count": null,
      "outputs": []
    },
    {
      "cell_type": "markdown",
      "metadata": {
        "id": "jP7YoTkTouhB"
      },
      "source": [
        "**Import the sklearn liabrary and train_test_split function**"
      ]
    },
    {
      "cell_type": "code",
      "metadata": {
        "id": "-rYiRoqvSsT7"
      },
      "source": [
        "from sklearn.model_selection import train_test_split\n",
        "X_train,X_test,y_train,y_test=train_test_split(X,Y,test_size=0.50,random_state=2)"
      ],
      "execution_count": null,
      "outputs": []
    },
    {
      "cell_type": "code",
      "metadata": {
        "id": "628MxI8gTOvw"
      },
      "source": [
        "X_train.head(5)"
      ],
      "execution_count": null,
      "outputs": []
    },
    {
      "cell_type": "code",
      "metadata": {
        "id": "ZWRVvm_UTSX3"
      },
      "source": [
        "X_train.shape"
      ],
      "execution_count": null,
      "outputs": []
    },
    {
      "cell_type": "code",
      "metadata": {
        "id": "LsT73dJiTYz8"
      },
      "source": [
        "X_test.head(5)"
      ],
      "execution_count": null,
      "outputs": []
    },
    {
      "cell_type": "code",
      "metadata": {
        "id": "ftAUaeDXTbxS"
      },
      "source": [
        "X_test.shape"
      ],
      "execution_count": null,
      "outputs": []
    },
    {
      "cell_type": "code",
      "metadata": {
        "id": "gVr1rOo9TlyQ"
      },
      "source": [
        "y_train.head(5)"
      ],
      "execution_count": null,
      "outputs": []
    },
    {
      "cell_type": "code",
      "metadata": {
        "id": "dAk_vNODTqSv"
      },
      "source": [
        "y_train.shape"
      ],
      "execution_count": null,
      "outputs": []
    },
    {
      "cell_type": "code",
      "metadata": {
        "id": "6XOPS8GHTvBW"
      },
      "source": [
        "y_test.head(5)"
      ],
      "execution_count": null,
      "outputs": []
    },
    {
      "cell_type": "code",
      "metadata": {
        "id": "LJ2pWZx3T1WK"
      },
      "source": [
        "y_test.shape"
      ],
      "execution_count": null,
      "outputs": []
    },
    {
      "cell_type": "markdown",
      "metadata": {
        "id": "SND2OupnZKRP"
      },
      "source": [
        "**Import the Logistic Regression Model**"
      ]
    },
    {
      "cell_type": "code",
      "metadata": {
        "id": "cMUIY0knT4jW"
      },
      "source": [
        "from sklearn.linear_model import LogisticRegression\n",
        "log=LogisticRegression()"
      ],
      "execution_count": null,
      "outputs": []
    },
    {
      "cell_type": "code",
      "metadata": {
        "id": "pSuyFvd_YSQh"
      },
      "source": [
        "log.fit(X_train, y_train)\n",
        "yprediction=log.predict(X_test)"
      ],
      "execution_count": null,
      "outputs": []
    },
    {
      "cell_type": "code",
      "metadata": {
        "id": "Km0eYIU4Ynwc"
      },
      "source": [
        "print(yprediction)"
      ],
      "execution_count": null,
      "outputs": []
    },
    {
      "cell_type": "markdown",
      "metadata": {
        "id": "c17ahXXXo_Bo"
      },
      "source": [
        "**Accuracy Score**"
      ]
    },
    {
      "cell_type": "code",
      "metadata": {
        "id": "v5zzGrRRaXNi"
      },
      "source": [
        "from sklearn.metrics import accuracy_score\n",
        "accuracy_score(yprediction,y_test)"
      ],
      "execution_count": null,
      "outputs": []
    },
    {
      "cell_type": "code",
      "metadata": {
        "id": "LzhhZmYaa3ku"
      },
      "source": [
        "print(X_train.shape)\n",
        "print(X_test.shape)\n",
        "print(y_train.shape)\n",
        "print(y_test.shape)"
      ],
      "execution_count": null,
      "outputs": []
    },
    {
      "cell_type": "code",
      "metadata": {
        "id": "gE1VOMKTbN44"
      },
      "source": [
        "from sklearn.metrics import confusion_matrix"
      ],
      "execution_count": null,
      "outputs": []
    },
    {
      "cell_type": "code",
      "metadata": {
        "id": "9tCMkMQ0kI5b"
      },
      "source": [
        "from sklearn.metrics import classification_report"
      ],
      "execution_count": null,
      "outputs": []
    },
    {
      "cell_type": "markdown",
      "metadata": {
        "id": "bXIDv7EXpFi4"
      },
      "source": [
        "**Classification Report**"
      ]
    },
    {
      "cell_type": "code",
      "metadata": {
        "id": "CYdfUryX2EeW"
      },
      "source": [
        "print(classification_report(yprediction,y_test))"
      ],
      "execution_count": null,
      "outputs": []
    },
    {
      "cell_type": "markdown",
      "metadata": {
        "id": "Kvko5xfgpLI9"
      },
      "source": [
        "**Confusion matrix**"
      ]
    },
    {
      "cell_type": "code",
      "metadata": {
        "id": "MdXFSk0I2LKk"
      },
      "source": [
        "cfm=confusion_matrix(yprediction,y_test)\n",
        "print(cfm)"
      ],
      "execution_count": null,
      "outputs": []
    },
    {
      "cell_type": "markdown",
      "metadata": {
        "id": "F-aDKcPR3CGD"
      },
      "source": [
        "**Logistic Regression is Implemented by Hemalatha.P**"
      ]
    },
    {
      "cell_type": "code",
      "metadata": {
        "id": "WlhSVXZO6TS8"
      },
      "source": [
        "sns.heatmap(cfm,annot=True,fmt='d')"
      ],
      "execution_count": null,
      "outputs": []
    },
    {
      "cell_type": "markdown",
      "metadata": {
        "id": "16QFt2vDwBD4"
      },
      "source": [
        "**Import the Decision Tree Classifier and Decision Tree is Implemented By Princy Roobila . A**"
      ]
    },
    {
      "cell_type": "code",
      "metadata": {
        "id": "KZbxrWqPvRRd"
      },
      "source": [
        "from sklearn.tree import DecisionTreeClassifier\n",
        "Des=DecisionTreeClassifier()"
      ],
      "execution_count": null,
      "outputs": []
    },
    {
      "cell_type": "markdown",
      "metadata": {
        "id": "9DHAKHKcwWlT"
      },
      "source": [
        "**Train the Model Using Decision Tree**"
      ]
    },
    {
      "cell_type": "code",
      "metadata": {
        "id": "AnWE9rubsox5"
      },
      "source": [
        "Des.fit(X_train,y_train)"
      ],
      "execution_count": null,
      "outputs": []
    },
    {
      "cell_type": "code",
      "metadata": {
        "id": "cSGMtqKJsulJ"
      },
      "source": [
        "y_pred=Des.predict(X_test)"
      ],
      "execution_count": null,
      "outputs": []
    },
    {
      "cell_type": "markdown",
      "metadata": {
        "id": "93MNn5vewgGP"
      },
      "source": [
        "**Accuracy of Decision Tree**"
      ]
    },
    {
      "cell_type": "code",
      "metadata": {
        "id": "rsLg6s3Cs-Go"
      },
      "source": [
        "accuracy_score(y_pred,y_test)"
      ],
      "execution_count": null,
      "outputs": []
    },
    {
      "cell_type": "markdown",
      "metadata": {
        "id": "Sm9lymXxwnOU"
      },
      "source": [
        "**Classification Report For Decision Tree**"
      ]
    },
    {
      "cell_type": "code",
      "metadata": {
        "id": "Nv_XJ5uktGGy"
      },
      "source": [
        "print(classification_report(y_pred,y_test))"
      ],
      "execution_count": null,
      "outputs": []
    },
    {
      "cell_type": "code",
      "metadata": {
        "id": "pYpYYMHwtLMd"
      },
      "source": [
        "print(confusion_matrix(y_pred,y_test))"
      ],
      "execution_count": null,
      "outputs": []
    },
    {
      "cell_type": "markdown",
      "metadata": {
        "id": "xupzB0NOwu7k"
      },
      "source": [
        "**Confusion Matrix For Decision Tree**"
      ]
    },
    {
      "cell_type": "code",
      "metadata": {
        "id": "6qH0vDJ6teeU"
      },
      "source": [
        "cfm=confusion_matrix(y_pred,y_test)\n",
        "sns.heatmap(cfm,annot=True,fmt='d')"
      ],
      "execution_count": null,
      "outputs": []
    },
    {
      "cell_type": "markdown",
      "metadata": {
        "id": "0ingrndNw13j"
      },
      "source": [
        "**Import the Naive Byes Classifier(Especially BernulliNB)**"
      ]
    },
    {
      "cell_type": "code",
      "metadata": {
        "id": "dM-LPF5ato-s"
      },
      "source": [
        "from sklearn.naive_bayes import BernoulliNB\n",
        "clf=BernoulliNB()\n",
        "clf.fit(X_train,y_train)\n",
        "y_pred1=clf.predict(X_test)"
      ],
      "execution_count": null,
      "outputs": []
    },
    {
      "cell_type": "markdown",
      "metadata": {
        "id": "xQWMT9jMxDQB"
      },
      "source": [
        "**Accuracy Of Naive Bayes**"
      ]
    },
    {
      "cell_type": "code",
      "metadata": {
        "id": "HWxgq2AHt5sK"
      },
      "source": [
        "accuracy_score(y_pred1,y_test)"
      ],
      "execution_count": null,
      "outputs": []
    },
    {
      "cell_type": "markdown",
      "metadata": {
        "id": "FWyfzA_qxKZV"
      },
      "source": [
        "**Classification Report For Naive Bayes**"
      ]
    },
    {
      "cell_type": "code",
      "metadata": {
        "id": "uhJ1KBZ4t_Bv"
      },
      "source": [
        "print(classification_report(y_pred1,y_test))"
      ],
      "execution_count": null,
      "outputs": []
    },
    {
      "cell_type": "code",
      "metadata": {
        "id": "kd1DnCWEuEqi"
      },
      "source": [
        "print(confusion_matrix(y_pred1,y_test))"
      ],
      "execution_count": null,
      "outputs": []
    },
    {
      "cell_type": "markdown",
      "metadata": {
        "id": "UQ9Vw1kdxvtu"
      },
      "source": [
        "**Confusion Matrix For Naive Bayes**"
      ]
    },
    {
      "cell_type": "code",
      "metadata": {
        "id": "6M5IoFoNuLkB"
      },
      "source": [
        "cfm=confusion_matrix(y_pred1,y_test)\n",
        "sns.heatmap(cfm,annot=True,fmt='d')"
      ],
      "execution_count": null,
      "outputs": []
    },
    {
      "cell_type": "code",
      "metadata": {
        "id": "P9JSfZ-XuRem"
      },
      "source": [
        "from sklearn.preprocessing import StandardScaler\n",
        "scalar=StandardScaler()\n",
        "scalar.fit(X_train)"
      ],
      "execution_count": null,
      "outputs": []
    },
    {
      "cell_type": "markdown",
      "metadata": {
        "id": "58KLUCzHx3Yc"
      },
      "source": [
        "**Import the KNN classifier**"
      ]
    },
    {
      "cell_type": "code",
      "metadata": {
        "id": "M8LklY1uuh1-"
      },
      "source": [
        "from sklearn.neighbors import KNeighborsClassifier\n",
        "classifier=KNeighborsClassifier(n_neighbors=5)\n",
        "classifier.fit(X_train,y_train)"
      ],
      "execution_count": null,
      "outputs": []
    },
    {
      "cell_type": "code",
      "metadata": {
        "id": "MkfmMUp3uova"
      },
      "source": [
        "y_predict=classifier.predict(X_test)"
      ],
      "execution_count": null,
      "outputs": []
    },
    {
      "cell_type": "markdown",
      "metadata": {
        "id": "CDx-M481x9au"
      },
      "source": [
        "**Acccuracy of KNN Classifier**"
      ]
    },
    {
      "cell_type": "code",
      "metadata": {
        "id": "BpgL1TGEuvmL"
      },
      "source": [
        "accuracy_score(y_predict,y_test)"
      ],
      "execution_count": null,
      "outputs": []
    },
    {
      "cell_type": "markdown",
      "metadata": {
        "id": "BWsf-qMxyDc6"
      },
      "source": [
        "**Classification Report for KNN Classifier**"
      ]
    },
    {
      "cell_type": "code",
      "metadata": {
        "id": "pCJK-oRXu1n8"
      },
      "source": [
        "print(classification_report(y_predict,y_test))"
      ],
      "execution_count": null,
      "outputs": []
    },
    {
      "cell_type": "code",
      "metadata": {
        "id": "Y_he66K_u6qB"
      },
      "source": [
        "print(confusion_matrix(y_predict,y_test))"
      ],
      "execution_count": null,
      "outputs": []
    },
    {
      "cell_type": "markdown",
      "metadata": {
        "id": "Li6jytFkyOA-"
      },
      "source": [
        "**Confusion Matrix For KNN Classifier**"
      ]
    },
    {
      "cell_type": "code",
      "metadata": {
        "id": "YK8FvMDxu_s8"
      },
      "source": [
        "cfm=confusion_matrix(y_predict,y_test)\n",
        "sns.heatmap(cfm,annot=True,fmt='d')"
      ],
      "execution_count": null,
      "outputs": []
    },
    {
      "cell_type": "markdown",
      "metadata": {
        "id": "o4y9XdtDyey6"
      },
      "source": [
        "**Import the Random Forest Classifier and implemented by Sandhiya. M**"
      ]
    },
    {
      "cell_type": "code",
      "metadata": {
        "id": "5YX8Ic1HvITs"
      },
      "source": [
        "from sklearn.ensemble import RandomForestClassifier\n",
        "forest=RandomForestClassifier(n_estimators=10)\n",
        "forest.fit(X_train,y_train)\n",
        "pred=forest.predict(X_test)"
      ],
      "execution_count": null,
      "outputs": []
    },
    {
      "cell_type": "markdown",
      "metadata": {
        "id": "ReE8bF6wyrEe"
      },
      "source": [
        "**Accuracy of Random Forest**"
      ]
    },
    {
      "cell_type": "code",
      "metadata": {
        "id": "5TMvnmaAvbcn"
      },
      "source": [
        "accuracy_score(pred,y_test)"
      ],
      "execution_count": null,
      "outputs": []
    },
    {
      "cell_type": "markdown",
      "metadata": {
        "id": "HYUq2EINyw_H"
      },
      "source": [
        "**Classification Report For Random Forest**"
      ]
    },
    {
      "cell_type": "code",
      "metadata": {
        "id": "KMrO6mz8viWt"
      },
      "source": [
        "print(classification_report(pred,y_test))"
      ],
      "execution_count": null,
      "outputs": []
    },
    {
      "cell_type": "code",
      "metadata": {
        "id": "8Irxv5yyvnA1"
      },
      "source": [
        "cfm=confusion_matrix(pred,y_test)\n",
        "print(cfm)"
      ],
      "execution_count": null,
      "outputs": []
    },
    {
      "cell_type": "markdown",
      "metadata": {
        "id": "8EdXBwa0y3zo"
      },
      "source": [
        "**Confusion Matrix For Random Forest**"
      ]
    },
    {
      "cell_type": "code",
      "metadata": {
        "id": "A3H_3NRjvugn"
      },
      "source": [
        "sns.heatmap(cfm,annot=True,fmt='d')"
      ],
      "execution_count": null,
      "outputs": []
    },
    {
      "cell_type": "markdown",
      "metadata": {
        "id": "QMZFVE_cklDo"
      },
      "source": [
        "![rs.JPG](data:image/jpeg;base64,/9j/4AAQSkZJRgABAQEAYABgAAD/4RDyRXhpZgAATU0AKgAAAAgABAE7AAIAAAANAAAISodpAAQAAAABAAAIWJydAAEAAAAaAAAQ0OocAAcAAAgMAAAAPgAAAAAc6gAAAAgAAAAAAAAAAAAAAAAAAAAAAAAAAAAAAAAAAAAAAAAAAAAAAAAAAAAAAAAAAAAAAAAAAAAAAAAAAAAAAAAAAAAAAAAAAAAAAAAAAAAAAAAAAAAAAAAAAAAAAAAAAAAAAAAAAAAAAAAAAAAAAAAAAAAAAAAAAAAAAAAAAAAAAAAAAAAAAAAAAAAAAAAAAAAAAAAAAAAAAAAAAAAAAAAAAAAAAAAAAAAAAAAAAAAAAAAAAAAAAAAAAAAAAAAAAAAAAAAAAAAAAAAAAAAAAAAAAAAAAAAAAAAAAAAAAAAAAAAAAAAAAAAAAAAAAAAAAAAAAAAAAAAAAAAAAAAAAAAAAAAAAAAAAAAAAAAAAAAAAAAAAAAAAAAAAAAAAAAAAAAAAAAAAAAAAAAAAAAAAAAAAAAAAAAAAAAAAAAAAAAAAAAAAAAAAAAAAAAAAAAAAAAAAAAAAAAAAAAAAAAAAAAAAAAAAAAAAAAAAAAAAAAAAAAAAAAAAAAAAAAAAAAAAAAAAAAAAAAAAAAAAAAAAAAAAAAAAAAAAAAAAAAAAAAAAAAAAAAAAAAAAAAAAAAAAAAAAAAAAAAAAAAAAAAAAAAAAAAAAAAAAAAAAAAAAAAAAAAAAAAAAAAAAAAAAAAAAAAAAAAAAAAAAAAAAAAAAAAAAAAAAAAAAAAAAAAAAAAAAAAAAAAAAAAAAAAAAAAAAAAAAAAAAAAAAAAAAAAAAAAAAAAAAAAAAAAAAAAAAAAAAAAAAAAAAAAAAAAAAAAAAAAAAAAAAAAAAAAAAAAAAAAAAAAAAAAAAAAAAAAAAAAAAAAAAAAAAAAAAAAAAAAAAAAAAAAAAAAAAAAAAAAAAAAAAAAAAAAAAAAAAAAAAAAAAAAAAAAAAAAAAAAAAAAAAAAAAAAAAAAAAAAAAAAAAAAAAAAAAAAAAAAAAAAAAAAAAAAAAAAAAAAAAAAAAAAAAAAAAAAAAAAAAAAAAAAAAAAAAAAAAAAAAAAAAAAAAAAAAAAAAAAAAAAAAAAAAAAAAAAAAAAAAAAAAAAAAAAAAAAAAAAAAAAAAAAAAAAAAAAAAAAAAAAAAAAAAAAAAAAAAAAAAAAAAAAAAAAAAAAAAAAAAAAAAAAAAAAAAAAAAAAAAAAAAAAAAAAAAAAAAAAAAAAAAAAAAAAAAAAAAAAAAAAAAAAAAAAAAAAAAAAAAAAAAAAAAAAAAAAAAAAAAAAAAAAAAAAAAAAAAAAAAAAAAAAAAAAAAAAAAAAAAAAAAAAAAAAAAAAAAAAAAAAAAAAAAAAAAAAAAAAAAAAAAAAAAAAAAAAAAAAAAAAAAAAAAAAAAAAAAAAAAAAAAAAAAAAAAAAAAAAAAAAAAAAAAAAAAAAAAAAAAAAAAAAAAAAAAAAAAAAAAAAAAAAAAAAAAAAAAAAAAAAAAAAAAAAAAAAAAAAAAAAAAAAAAAAAAAAAAAAAAAAAAAAAAAAAAAAAAAAAAAAAAAAAAAAAAAAAAAAAAAAAAAAAAAAAAAAAAAAAAAAAAAAAAAAAAAAAAAAAAAAAAAAAAAAAAAAAAAAAAAAAAAAAAAAAAAAAAAAAAAAAAAAAAAAAAAAAAAAAAAAAAAAAAAAAAAAAAAAAAAAAAAAAAAAAAAAAAAAAAAAAAAAAAAAAAAAAAAAAAAAAAAAAAAAAAAAAAAAAAAAAAAAAAAAAAAAAAAAAAAAAAAAAAAAAAAAAAAAAAAAAAAAAAAAAAAAAAAAAAAAAAAAAAAAAAAAAAAAAAAAAAAAAAAAAAAAAAAAAAAAAAAAAAAAAAAAAAAAAAAAAAAAAAAAAAAAAAAAAAAAAAAAAAAAAAAAAAAAAAAAAAAAAAAAAAAAAAAAAAAAAAAAAAAAAAAAAAAAAAAAAAAAAAAAAAAAAAAAAAAAAAAAAAAAAAAAAAAAAAAAAAAAAAAAAAAAAAAAAAAAAAAAAAAAAAAAAAAAAAAAAAAAAAAAAAAAAAAAAAAAAAAAAAAAAAAAAAAAAAAAAAAAAAAAAAAAAAAAAAAAAAAAAAAAAAAAAAAAAAAAAAAAAAAAAAAAAAAAAAAAAAAAAAAAAAAAAAAAAAAAAAAAAAAAAAAAAAAAAAAAAAAAAAAAAAAAAAAAAAAAAAAAAAAAAAAAAAAAAAAAAAAAAAAAAAAAAAAAAAAAAAAAAAAAAAAAAAAAAAAAAAAAAAAAAAAAAAAAAAAAAAAAAAAAAAAAAAAAAAAAAAAAAAAAAAAAAAAAAAAAAAAAAAAAAAAAAAAAAAAAAAAAAAAAAAAAAAAAAAAAAAAAAAAAAAAAAAAAAAAAAAAAAAAAAAAAAAAAAAAAAAAAAAAAAAAAAAAAAAAAAAAAAAAAAAAAAAAAAAAAAAAAAAAAAAAAAAAAAAAAAAAAAAAAAAAAAAAAAAAAAAAAAAAAAAAAAAAAAAAAAAAAAAAAAAAAAAAAAAAAAAAAAAAAAAAAAAAAAAAAAAAAAAAAAAAAAAAAAAAAAAAAAAAAAAAAAAAAAAAAAAAAAAAAAAAAAAAAAAAAAAAAAAAAAAAAAAAAAAAAAAAAAAAAAAAAAAAAAAAAAAAAAAAAAAAAAAAAAAAAAAAAAAAAAAAAAAAAAAAAAAAAAAAAAAAAAAAAAAAAAAAAAAAAAAAAAAAAAAAAAAAAAAAAAAAAAAAAAAAAAAAAAAAAAAAAAAAAAAAAAAAAAAAAAAAAAAAAAAAAAAAAAAAAAAAAAAAAAAAAAAAAAAAAAAAAAAAAAAAAAAAAAAAAAAFVkaGF5YSBrdW1hcgAAAAWQAwACAAAAFAAAEKaQBAACAAAAFAAAELqSkQACAAAAAzYyAACSkgACAAAAAzYyAADqHAAHAAAIDAAACJoAAAAAHOoAAAAIAAAAAAAAAAAAAAAAAAAAAAAAAAAAAAAAAAAAAAAAAAAAAAAAAAAAAAAAAAAAAAAAAAAAAAAAAAAAAAAAAAAAAAAAAAAAAAAAAAAAAAAAAAAAAAAAAAAAAAAAAAAAAAAAAAAAAAAAAAAAAAAAAAAAAAAAAAAAAAAAAAAAAAAAAAAAAAAAAAAAAAAAAAAAAAAAAAAAAAAAAAAAAAAAAAAAAAAAAAAAAAAAAAAAAAAAAAAAAAAAAAAAAAAAAAAAAAAAAAAAAAAAAAAAAAAAAAAAAAAAAAAAAAAAAAAAAAAAAAAAAAAAAAAAAAAAAAAAAAAAAAAAAAAAAAAAAAAAAAAAAAAAAAAAAAAAAAAAAAAAAAAAAAAAAAAAAAAAAAAAAAAAAAAAAAAAAAAAAAAAAAAAAAAAAAAAAAAAAAAAAAAAAAAAAAAAAAAAAAAAAAAAAAAAAAAAAAAAAAAAAAAAAAAAAAAAAAAAAAAAAAAAAAAAAAAAAAAAAAAAAAAAAAAAAAAAAAAAAAAAAAAAAAAAAAAAAAAAAAAAAAAAAAAAAAAAAAAAAAAAAAAAAAAAAAAAAAAAAAAAAAAAAAAAAAAAAAAAAAAAAAAAAAAAAAAAAAAAAAAAAAAAAAAAAAAAAAAAAAAAAAAAAAAAAAAAAAAAAAAAAAAAAAAAAAAAAAAAAAAAAAAAAAAAAAAAAAAAAAAAAAAAAAAAAAAAAAAAAAAAAAAAAAAAAAAAAAAAAAAAAAAAAAAAAAAAAAAAAAAAAAAAAAAAAAAAAAAAAAAAAAAAAAAAAAAAAAAAAAAAAAAAAAAAAAAAAAAAAAAAAAAAAAAAAAAAAAAAAAAAAAAAAAAAAAAAAAAAAAAAAAAAAAAAAAAAAAAAAAAAAAAAAAAAAAAAAAAAAAAAAAAAAAAAAAAAAAAAAAAAAAAAAAAAAAAAAAAAAAAAAAAAAAAAAAAAAAAAAAAAAAAAAAAAAAAAAAAAAAAAAAAAAAAAAAAAAAAAAAAAAAAAAAAAAAAAAAAAAAAAAAAAAAAAAAAAAAAAAAAAAAAAAAAAAAAAAAAAAAAAAAAAAAAAAAAAAAAAAAAAAAAAAAAAAAAAAAAAAAAAAAAAAAAAAAAAAAAAAAAAAAAAAAAAAAAAAAAAAAAAAAAAAAAAAAAAAAAAAAAAAAAAAAAAAAAAAAAAAAAAAAAAAAAAAAAAAAAAAAAAAAAAAAAAAAAAAAAAAAAAAAAAAAAAAAAAAAAAAAAAAAAAAAAAAAAAAAAAAAAAAAAAAAAAAAAAAAAAAAAAAAAAAAAAAAAAAAAAAAAAAAAAAAAAAAAAAAAAAAAAAAAAAAAAAAAAAAAAAAAAAAAAAAAAAAAAAAAAAAAAAAAAAAAAAAAAAAAAAAAAAAAAAAAAAAAAAAAAAAAAAAAAAAAAAAAAAAAAAAAAAAAAAAAAAAAAAAAAAAAAAAAAAAAAAAAAAAAAAAAAAAAAAAAAAAAAAAAAAAAAAAAAAAAAAAAAAAAAAAAAAAAAAAAAAAAAAAAAAAAAAAAAAAAAAAAAAAAAAAAAAAAAAAAAAAAAAAAAAAAAAAAAAAAAAAAAAAAAAAAAAAAAAAAAAAAAAAAAAAAAAAAAAAAAAAAAAAAAAAAAAAAAAAAAAAAAAAAAAAAAAAAAAAAAAAAAAAAAAAAAAAAAAAAAAAAAAAAAAAAAAAAAAAAAAAAAAAAAAAAAAAAAAAAAAAAAAAAAAAAAAAAAAAAAAAAAAAAAAAAAAAAAAAAAAAAAAAAAAAAAAAAAAAAAAAAAAAAAAAAAAAAAAAAAAAAAAAAAAAAAAAAAAAAAAAAAAAAAAAAAAAAAAAAAAAAAAAAAAAAAAAAAAAAAAAAAAAAAAAAAAAAAAAAAAAAAAAAAAAAAAAAAAAAAAAAAAAAAAAAAAAAAAAAAAAAAAAAAAAAAAAAAAAAAAAAAAAAAAAAAAAAAAAAAAAAAAAAAAAAAAAAAAAAAAAAAAAAAAAAAAAAAAAAAAAAAAAAAAAAAAAAAAAAAAAAAAAAAAAAAAAAAAAAAAAAAAAAAAAAAAAAAAAAAAAAAAAAAAAAAAAAAAAAAAAAAAAAAAAAAAAAAAAAAAAAAAAAAAAAAAAAAAAAAAAAAAAAAAAAAAAAAAAAAAAAAAAAAAAAAAAAAAAAAAAAAAAAAAAAAAAAAAAAAAAAAAAAAAAAAAAAAAAAAAAAAAAAAAAAAAAAAAAAAAAAAAAAAAAAAAAAAAAAAAAAAAAAAAAAAAAAAAAAAAAAAAAAAAAAAAAAAAAAAAAAAAAAAAAAAAAAAAAAAAAAAAAAAAAAAAAAAAAAAAAAAAAAAAAAAAAAAAAAAAAAAAAAAAAAAAAAAAAAAAAAAAAAAAAAAAAAAAAAAAAAAAAAAAAAAAAAAAAAAAAAAAAAAAAAAAAAAAAAAAAAAAAAAAAAAAAAAAAAAAAAAAAAAAAAAAAAAAAAAAAAAAAAAAAAAAAAAAAAAAAAAAAAAAAAAAAAAAAAAAAAAAAAAAAAAAAAAAAAAAAAAAAAAAAAAAAAAAAAAAAAAAAAAAAAAAAAAAAAAAAAAAAAAAAAAAAAAAAAAAAAAAAAAAAAAAAAAAAAAAAAAAAAAAAAAAAAAAAAAAAAAAAAAAAAAAAAAAAAAAAAAAAAAAAAAAAAAAAAAAAAAAAAAAAAAAAAAAAAAAAAAAAAAAAAAAAAAAAAAAAAAAAAAAAAAAAAAAAAAAAAAAAAAAAAAAAAAAAAAAAAAAAAAAAAyMDIxOjA2OjA3IDE4OjMzOjEzADIwMjE6MDY6MDcgMTg6MzM6MTMAAABVAGQAaABhAHkAYQAgAGsAdQBtAGEAcgAAAP/hCx9odHRwOi8vbnMuYWRvYmUuY29tL3hhcC8xLjAvADw/eHBhY2tldCBiZWdpbj0n77u/JyBpZD0nVzVNME1wQ2VoaUh6cmVTek5UY3prYzlkJz8+DQo8eDp4bXBtZXRhIHhtbG5zOng9ImFkb2JlOm5zOm1ldGEvIj48cmRmOlJERiB4bWxuczpyZGY9Imh0dHA6Ly93d3cudzMub3JnLzE5OTkvMDIvMjItcmRmLXN5bnRheC1ucyMiPjxyZGY6RGVzY3JpcHRpb24gcmRmOmFib3V0PSJ1dWlkOmZhZjViZGQ1LWJhM2QtMTFkYS1hZDMxLWQzM2Q3NTE4MmYxYiIgeG1sbnM6ZGM9Imh0dHA6Ly9wdXJsLm9yZy9kYy9lbGVtZW50cy8xLjEvIi8+PHJkZjpEZXNjcmlwdGlvbiByZGY6YWJvdXQ9InV1aWQ6ZmFmNWJkZDUtYmEzZC0xMWRhLWFkMzEtZDMzZDc1MTgyZjFiIiB4bWxuczp4bXA9Imh0dHA6Ly9ucy5hZG9iZS5jb20veGFwLzEuMC8iPjx4bXA6Q3JlYXRlRGF0ZT4yMDIxLTA2LTA3VDE4OjMzOjEzLjYyMDwveG1wOkNyZWF0ZURhdGU+PC9yZGY6RGVzY3JpcHRpb24+PHJkZjpEZXNjcmlwdGlvbiByZGY6YWJvdXQ9InV1aWQ6ZmFmNWJkZDUtYmEzZC0xMWRhLWFkMzEtZDMzZDc1MTgyZjFiIiB4bWxuczpkYz0iaHR0cDovL3B1cmwub3JnL2RjL2VsZW1lbnRzLzEuMS8iPjxkYzpjcmVhdG9yPjxyZGY6U2VxIHhtbG5zOnJkZj0iaHR0cDovL3d3dy53My5vcmcvMTk5OS8wMi8yMi1yZGYtc3ludGF4LW5zIyI+PHJkZjpsaT5VZGhheWEga3VtYXI8L3JkZjpsaT48L3JkZjpTZXE+DQoJCQk8L2RjOmNyZWF0b3I+PC9yZGY6RGVzY3JpcHRpb24+PC9yZGY6UkRGPjwveDp4bXBtZXRhPg0KICAgICAgICAgICAgICAgICAgICAgICAgICAgICAgICAgICAgICAgICAgICAgICAgICAgICAgICAgICAgICAgICAgICAgICAgICAgICAgICAgICAgICAgICAgICAgICAgICAgIAogICAgICAgICAgICAgICAgICAgICAgICAgICAgICAgICAgICAgICAgICAgICAgICAgICAgICAgICAgICAgICAgICAgICAgICAgICAgICAgICAgICAgICAgICAgICAgICAgICAgCiAgICAgICAgICAgICAgICAgICAgICAgICAgICAgICAgICAgICAgICAgICAgICAgICAgICAgICAgICAgICAgICAgICAgICAgICAgICAgICAgICAgICAgICAgICAgICAgICAgICAKICAgICAgICAgICAgICAgICAgICAgICAgICAgICAgICAgICAgICAgICAgICAgICAgICAgICAgICAgICAgICAgICAgICAgICAgICAgICAgICAgICAgICAgICAgICAgICAgICAgIAogICAgICAgICAgICAgICAgICAgICAgICAgICAgICAgICAgICAgICAgICAgICAgICAgICAgICAgICAgICAgICAgICAgICAgICAgICAgICAgICAgICAgICAgICAgICAgICAgICAgCiAgICAgICAgICAgICAgICAgICAgICAgICAgICAgICAgICAgICAgICAgICAgICAgICAgICAgICAgICAgICAgICAgICAgICAgICAgICAgICAgICAgICAgICAgICAgICAgICAgICAKICAgICAgICAgICAgICAgICAgICAgICAgICAgICAgICAgICAgICAgICAgICAgICAgICAgICAgICAgICAgICAgICAgICAgICAgICAgICAgICAgICAgICAgICAgICAgICAgICAgIAogICAgICAgICAgICAgICAgICAgICAgICAgICAgICAgICAgICAgICAgICAgICAgICAgICAgICAgICAgICAgICAgICAgICAgICAgICAgICAgICAgICAgICAgICAgICAgICAgICAgCiAgICAgICAgICAgICAgICAgICAgICAgICAgICAgICAgICAgICAgICAgICAgICAgICAgICAgICAgICAgICAgICAgICAgICAgICAgICAgICAgICAgICAgICAgICAgICAgICAgICAKICAgICAgICAgICAgICAgICAgICAgICAgICAgICAgICAgICAgICAgICAgICAgICAgICAgICAgICAgICAgICAgICAgICAgICAgICAgICAgICAgICAgICAgICAgICAgICAgICAgIAogICAgICAgICAgICAgICAgICAgICAgICAgICAgICAgICAgICAgICAgICAgICAgICAgICAgICAgICAgICAgICAgICAgICAgICAgICAgICAgICAgICAgICAgICAgICAgICAgICAgCiAgICAgICAgICAgICAgICAgICAgICAgICAgICAgICAgICAgICAgICAgICAgICAgICAgICAgICAgICAgICAgICAgICAgICAgICAgICAgICAgICAgICAgICAgICAgICAgICAgICAKICAgICAgICAgICAgICAgICAgICAgICAgICAgICAgICAgICAgICAgICAgICAgICAgICAgICAgICAgICAgICAgICAgICAgICAgICAgICAgICAgICAgICAgICAgICAgICAgICAgIAogICAgICAgICAgICAgICAgICAgICAgICAgICAgICAgICAgICAgICAgICAgICAgICAgICAgICAgICAgICAgICAgICAgICAgICAgICAgICAgICAgICAgICAgICAgICAgICAgICAgCiAgICAgICAgICAgICAgICAgICAgICAgICAgICAgICAgICAgICAgICAgICAgICAgICAgICAgICAgICAgICAgICAgICAgICAgICAgICAgICAgICAgICAgICAgICAgICAgICAgICAKICAgICAgICAgICAgICAgICAgICAgICAgICAgICAgICAgICAgICAgICAgICAgICAgICAgICAgICAgICAgICAgICAgICAgICAgICAgICAgICAgICAgICAgICAgICAgICAgICAgIAogICAgICAgICAgICAgICAgICAgICAgICAgICAgICAgICAgICAgICAgICAgICAgICAgICAgICAgICAgICAgICAgICAgICAgICAgICAgICAgICAgICAgICAgICAgICAgICAgICAgCiAgICAgICAgICAgICAgICAgICAgICAgICAgICAgICAgICAgICAgICAgICAgICAgICAgICAgICAgICAgICAgICAgICAgICAgICAgICAgICAgICAgICAgICAgICAgICAgICAgICAKICAgICAgICAgICAgICAgICAgICAgICAgICAgICAgICAgICAgICAgICAgICAgICAgICAgICAgICAgICAgICAgICAgICAgICAgICAgICAgICAgICAgICAgICAgICAgICAgICAgIAogICAgICAgICAgICAgICAgICAgICAgICAgICAgICAgICAgICAgICAgICAgICAgICAgICAgICAgICAgICAgICAgICAgICAgICAgICAgICAgICAgICAgICAgICAgICAgICAgICAgCiAgICAgICAgICAgICAgICAgICAgICAgICAgICA8P3hwYWNrZXQgZW5kPSd3Jz8+/9sAQwAHBQUGBQQHBgUGCAcHCAoRCwoJCQoVDxAMERgVGhkYFRgXGx4nIRsdJR0XGCIuIiUoKSssKxogLzMvKjInKisq/9sAQwEHCAgKCQoUCwsUKhwYHCoqKioqKioqKioqKioqKioqKioqKioqKioqKioqKioqKioqKioqKioqKioqKioqKioq/8AAEQgAxwIUAwEiAAIRAQMRAf/EAB8AAAEFAQEBAQEBAAAAAAAAAAABAgMEBQYHCAkKC//EALUQAAIBAwMCBAMFBQQEAAABfQECAwAEEQUSITFBBhNRYQcicRQygZGhCCNCscEVUtHwJDNicoIJChYXGBkaJSYnKCkqNDU2Nzg5OkNERUZHSElKU1RVVldYWVpjZGVmZ2hpanN0dXZ3eHl6g4SFhoeIiYqSk5SVlpeYmZqio6Slpqeoqaqys7S1tre4ubrCw8TFxsfIycrS09TV1tfY2drh4uPk5ebn6Onq8fLz9PX29/j5+v/EAB8BAAMBAQEBAQEBAQEAAAAAAAABAgMEBQYHCAkKC//EALURAAIBAgQEAwQHBQQEAAECdwABAgMRBAUhMQYSQVEHYXETIjKBCBRCkaGxwQkjM1LwFWJy0QoWJDThJfEXGBkaJicoKSo1Njc4OTpDREVGR0hJSlNUVVZXWFlaY2RlZmdoaWpzdHV2d3h5eoKDhIWGh4iJipKTlJWWl5iZmqKjpKWmp6ipqrKztLW2t7i5usLDxMXGx8jJytLT1NXW19jZ2uLj5OXm5+jp6vLz9PX29/j5+v/aAAwDAQACEQMRAD8A+hJ4Y5tUQSqGAiPB+tS/YLX/AJ4J+VNb/kKp/wBcj/OqPia9urbS0g0yTyr++mW2t5Aobyy3LPggg7VDNyMcUAaH2C1/54J+VH2C1/54J+Vcv/wkV/LoGgzlxBdzanHZXyBQfmBZZF6cZK5yMcVpeJL++W603SNJnFpc6nK6td7A5gjRCzMqkFS/QDcCBnJBxggGt9gtf+eCflR9gtf+eCflXI2viRNHTXA3imz8SJpdq07RGaD7bE653I6wqqheBg7QQc5zxUl1Lr2g6fba7e61JfLJLCt3YNbxLBGsjKp8kqokBUsCN7vkA8cggA6r7Ba/88E/Kj7Ba/8APBPyrzXUfFKJqXiFbr4jf2TfWV28dnpQNkdwCKUXy3iMr7icYDZOcDFdOt/q2o65Z6dLdTaW11oxuJRAkZeCbegJG9WGRkjBBHtQB0f2C1/54J+VH2C1/wCeCflXFaOdbi03xDf3XijUr5tOluoIIZ4LRU+RMqx2QqxYH3x7U2Px99ssvDcVp/akd3eXNtHcyXGjXEMcisuXHmSRBOT0wfpQB2/2C1/54J+VH2C1/wCeCflXE6X4s1OO38SjUZhNLBNK2msY1UbfNeFI+AM4dV68/OK2PBd/qd34BtrnWbz7ZqKpKk1yI1TzGR2XdtUAD7vSgDe+wWv/ADwT8qPsFr/zwT8q8/0LxlrFz4HtjqkoTWVks3aYIuLmCaVAHC4wOCyHA4IOOorb1nXtQtPE8bWpxpNi8UWoDaDvaYkA5IyNnyE4PR+elAHS/YLX/ngn5UfYLX/ngn5VzA17ULb4m3NjdXGdIa3RI4yigRTbGkzuAydyq3U4+UYrmE8W+IH8L69fXOqzRkatbLaPa2aPJb2s3lEIqbG3ttc9VY5P0oA9O+wWv/PBPyo+wWv/ADwT8qwfCU5uZbl/7b8RakqqBs1nSRZhD6r/AKNCWP4kD2rpqAK/2C1/54J+VH2C1/54J+VWKKAK/wBgtf8Angn5UfYLX/ngn5VYooAr/YLX/ngn5VWt7K2N5dgwqQHXHt8orRqrbf8AH7ef76/+gigB32C1/wCeCflR9gtf+eCflXL+L4NXi1TS5NO8T6lp8V9ex2r28ENqyIpRiWUyQs2cqOpI9qy9a1gaX4tGka18QpdCt4dOiljmmexie6kLuGYmWEgnCrwgUDPSgDvPsFr/AM8E/Kj7Ba/88E/KuTsNd1W48BQSLcmfUby5azsr0xKDMpkKpcbMbf8AVjzOBtOOBg06bxFqP/CI6dcGTydQXU7exvPlU5bzxHJxjA3DJ47EYoA6r7Ba/wDPBPyo+wWv/PBPyritO8V6qmreIrPVJFMX2i5XSZwijaYkBMJ45YffGeo3f3a63Sr1pfDdle3sgLPaRzSyEAclASeOB3oAsfYLX/ngn5UfYLX/AJ4J+Vcz4c13Vbma8j1fKtdW39o2AKqpjhbI8sgDkr8pJPPz1i6F4y1i58D2x1SUJrKyWbtMEXFzBNKgDhcYHBZDgcEHHUUAegfYLX/ngn5UfYLX/ngn5VxyReIdWuPEF1ZeKb2zexvZIrW0FtbPb4RFYBwYvMIJJziQHB4IrotPu5PEnhG0vLe5m06S+tklEtuEZ4SwBON6sp9OVNAF/wCwWv8AzwT8qPsFr/zwT8q4O0n1608K+JdXm8U6jezad9thgingtAgMedjnZCpLDHrj2q94SvpL69iJ8Q+Kb5/I3tBqeiC1gY4H/LT7JHzk8APz70Add9gtf+eCflR9gtf+eCflXCaF4hvpdftLbVPEM9tq87t5+h6lZrbQsuTu+yv5QaUrgHIkkBGc4yCLv2HW/wDhPv7O/wCEx1j7J9j+2eX5Fl183bsz9nztx7596AOu+wWv/PBPyo+wWv8AzwT8qyPGF5qNlpML6abqNHuFS6uLK1+0TwRHOXjj2tuOdo+62AScHFc9D4mnbwXfX2keJI9ZSG6hjiu3jRbmMtIgeOeMIqowyRjYpwRkZGSAdx9gtf8Angn5UfYLX/ngn5VyfieHWP7bt7TQ/FOqQX18++OzWG0aC2hXG+Rt0DPt7AFslmABA6ZVzrd3L4r1qzuvEniezS0uUhgi0nQ1uogpiRss4tJcNljwWHGOKAPQfsFr/wA8E/Kj7Ba/88E/KpYQVgQM7yEKAXcAM3HUgADP4Cn0AV/sFr/zwT8qPsFr/wA8E/KrFFAGdYWVs1oC0Kk5P86s/YLX/ngn5U3Tv+PMf7x/nXOarr+oW3iyM27f8Sezlitb0bR80k3Rs4yNhMXQ9JDnpQB0v2C1/wCeCflR9gtf+eCflXP3T6pr/iLUNO0/WbjRrbTUjDS2kMLyzSuu7B81HUIF28AAkk88VHd3WvT3uk+H31CKxvp4Jbi9vrOJXOyMqo8oSAqrMXUncrAAEDPDAA6T7Ba/88E/Kj7Ba/8APBPyrm7+413Q7C0iutRW6L6tbwR3RjQSzQOwBEihQgbqMoBxg8GpNe1i+steube2n2RR6JcXSrsU4lVgFbJHbPTpQB0H2C1/54J+VH2C1/54J+Vec6B4n+03mgf2X49/4SW7vGQXumbrOTykMZLyfuIldNjY5Y47dSK6G81/UIvGMZjb/iSw3CafcDaP9dIu4PnGcAmNMA4y5z0oA6X7Ba/88E/Kj7Ba/wDPBPyrnZH1bxFr2qW2n61Po9rpciQL9mghdp5SgclzKj/IAygBQp689MJqmsar4ajsNW12VHsPK8jUo7WMskMp+7Mny7yCflKnONynsSQDo/sFr/zwT8qPsFr/AM8E/Kqfh86nLpv2rWWZZ7pzKtsVUC1Q/djyBkkDGSSeScYGAOQ0zxBqB8Qw2+q6/PZarNcsn9jajZrBayxh8EW8piDSvswwxI/J5AHQA7v7Ba/88E/Kj7Ba/wDPBPyrmFOu+JLnUrnS9ck0qKxuXtrW3jt4njnaPG5pi6M20tkYQodo65ORPdXOq6vrv9hwag+kNbWUdzd3Fkkcjl3ZgEQyoy7fkYklMnjGOaAOg+wWv/PBPyo+wWv/ADwT8q4PW/Euoabo93Z6hro06Ww1a2tJdXCQoTbyBW3t5itGrYJBO3GRkAZwH6Z4ilaTWV0bxWfE9lb6Y9wL7/Rn+zTjOE3wIqHI+baQSMehFAHc/YLX/ngn5UfYLX/ngn5VxXgvUptTmsJJ/Efiq8lktxLJBf6GttbMSoJ/e/ZI+54w/PvXe0AV/sFr/wA8E/Kj7Ba/88E/KrFFAFf7Ba/88E/KirFFAFVv+Qqn/XI/zrN1nwrp/iLVLabXba11GytonEdldWyyp5jEfvDuyMgDA44yeeau3E6wapGXDHMR+6ue9S/2hF/cl/79mgDlpvAH2SOWLwxdWWkwC/hv7a2/s/dDBIi4YbEkT5W4OBjByec1oz6BquoWdu+p6ta/2rZTma0u7KyaFEO0qVeNpX3qQSCNwyOmCAa2P7Qi/uS/9+zR/aEX9yX/AL9mgDDtfCt3c6hdXvinU4dTkuLNrEQWtn9mgWFjlvlLu5YnvvxjGAOSWp4W1Of7NZ6trcd5pNpJHJFAtn5c8pjIKCaXeQ4BAJ2omSB2yDvf2hF/cl/79mj+0Iv7kv8A37NAGS3hK3n0/V7S7mMi6ldtdo6rta3fC7Spz95SoYHjmpbHQ7uLVrPU9R1BLq6g082crR2/lrKxZWMgG47fu9OevWtH+0Iv7kv/AH7NH9oRf3Jf+/ZoAzoPDvkaXrNn9q3f2pNPLv8ALx5XmLjGM84/DNE/h3z9L0az+1bf7Lmgl3+XnzfLXGMZ4z+OK0f7Qi/uS/8Afs0f2hF/cl/79mgDnT4EifUNOunv3/0O+nu3RYwBOskhkWNueivsbPcr2zWvoui/2RoH9mfaPO+aU+Zs2/fdm6ZPTdjr2q3/AGhF/cl/79mj+0Iv7kv/AH7NAHM3Pw/huNE0CzW+Md1ophAulh/10aMrNGVzwGKKepwQDzTpvhr4dv7e+fWdL0+/1O9eV31KSyTzkLE7drHLDYNoHP8ACK6T+0Iv7kv/AH7NH9oRf3Jf+/ZoA5m/8Byapp1zDe6u32q4W2BuoYNhVolKsQNx++rMOvG7vUl/4JkntdTjsNQjtpLy8truEyWxkSEwiMBSodSwPl+q9a6L+0Iv7kv/AH7NH9oRf3Jf+/ZoAqaTb+IIZnOu6npt5EV+RbPTpLZlPqS08mR7YH1rVqr/AGhF/cl/79mj+0Iv7kv/AH7NAFqiqv8AaEX9yX/v2aP7Qi/uS/8Afs0AWqKq/wBoRf3Jf+/Zo/tCL+5L/wB+zQBaqrbf8ft5/vr/AOgij+0Iv7kv/fs1Wt76IXl2dsnLr/Af7ooAXV9I/tWbTn8/yvsN4t1jZu34Vht6jH3uvPSozoMcniK81K4dZoruyjs3tnjyMKzkknPIO/GMdquf2hF/cl/79mj+0Iv7kv8A37NAHNx+Aba5W0tfEMtvremWBl+yWd7ZiQIGI2bixYOUXKg4BwfXqDwBaWpng0d7fTdOkvbW9Syt7QKkUkTAttAIADhV7cEE85rpP7Qi/uS/9+zR/aEX9yX/AL9mgDAv/BEV/oGradJetHLfXkl5BdJH81rI2NpAzzjHtkEjvWhd6A114Sj0IXQRPIjt5ZfLz5kYwHGM8blBHU4z3q//AGhF/cl/79mj+0Iv7kv/AH7NAGAPh9odjqlnf+G9N07RJ4C6TNZ2KJ9oidSCjbdvfawJzgr0qC5+H8NxomgWa3xjutFMIF0sP+ujRlZoyueAxRT1OCAea6b+0Iv7kv8A37NH9oRf3Jf+/ZoA5uXwrr63GrRWPiG0tdP1Sd5ZFGms1zEGUK2yUzbAeOCYzj0NdPYWUGm6fb2VouyC2iWKNc5wqjA/QUz+0Iv7kv8A37NH9oRf3Jf+/ZoAyT4Wz4a1rSftn/IVkuX83yv9V52eMZ5xn1Gfal0rTvE1s8UWq61pVzZpHsKWulSwSnjAIc3Dgf8AfP5Vq/2hF/cl/wC/Zo/tCL+5L/37NAGAvhbVrh7S11fXYr7S7KeOeFDZFbp2jOU8ybzCrYI5xGpOOvXOv/ZH/FU/2z5//Ll9l8nZ/t7t27P4YxVj+0Iv7kv/AH7NH9oRf3Jf+/ZoAg1nT7y+hhbS9RbT7u3k8yNyhkifggrJHuXevPQMpBAIIrEk8G3N7aag+q6nFLqWoNb+bPb2hiiVIX3Kqxl2Prklz17AYrov7Qi/uS/9+zR/aEX9yX/v2aAOcXw74ottc1HULHxBpGb2QEfa9GkleKNfuRhluUBUZJ+6Mkk96cvh7xLZatqN3o+u6VDHqEyzyR3WkSTFXEaocMtynHyZxjv1NdD/AGhF/cl/79mj+0Iv7kv/AH7NAE8IkWFBO6vKFG9kUqpPcgEnA9sn60+qv9oRf3Jf+/Zo/tCL+5L/AN+zQBaoqr/aEX9yX/v2aP7Qi/uS/wDfs0AGnf8AHmP94/zrmZvhn4evrG8Oq6bp95qt20sj6q9innq7ElWVjlht4A+bjaK3bC/iW0AKy9T/AAH1qz/aEX9yX/v2aAMSXw7rEF0t9o2tWtvfzW8cN611YNNDcFAQJAiyoUbk/wARGMDHANOuPC10IdPn07WJU1Ww8wLeXkf2gTCTl1kTKkrnBAVl2lVxwCDs/wBoRf3Jf+/Zo/tCL+5L/wB+zQBi3Hha7v8ARZ4NS1mSXUJZ47pLmOLbFBJGVKeXCWbCZUEqWJOT83TDYfDGoXMmoXOvarb3d7dWTWMT2lkYIoI2ySdjSOWYk5J3YwAAByTuf2hF/cl/79mj+0Iv7kv/AH7NAGTN4YcRaNJYXq21/papD9pMO4TwgAPGyhhw2ARz8rAHnGDmS/DHQLrSZlu7DT5dam3yNrJsU88TFiwkDHLDacYG7gADNdT/AGhF/cl/79mj+0Iv7kv/AH7NAGNP4f1eDUJb7Q9YtrSa7RBfLc2BnjldV2+YgEiFGI45LDAHHGTYv/Dn23widDN/cOSqKbu5PmyMQwYlumScewHbpitH+0Iv7kv/AH7NH9oRf3Jf+/ZoAtEZGK5R/Ceq3SxWGp69HeaPDPHMkb2Z+1sY3DoHnMhVgCBkiMMQOuck9D/aEX9yX/v2aP7Qi/uS/wDfs0AYtz4c1WG/u38P61Dp9rqEnm3UU1kZnRyArPC4kUISBn5lcbucdQZbvw5dRT295oGpLa38Nstq8t9C10s8YOR5g3oxYHJDbh945zmtX+0Iv7kv/fs0f2hF/cl/79mgDDHg/Nqvn35lvZNRi1G6uTCAJXTGFVQflXCgDkkAcljkma78MPJqeo3FleLa2+qWjw3lv5O4PKV2rMDuGGC8Hg7gF5GK1v7Qi/uS/wDfs0f2hF/cl/79mgDG0PSvFGmLZ217rekXVjbRrE0cOkSxSuqrgfOblgDwP4TXR1V/tCL+5L/37NH9oRf3Jf8Av2aALVFVf7Qi/uS/9+zR/aEX9yX/AL9mgC1RVX+0Iv7kv/fs0UADf8hVP+uR/nVqqrf8hVP+uR/nWD8RrKS88A6uI765tEis5pHFswUygIflLYyFz12kE9M4zQB1FFZVz/yJ0v8A14H/ANF1jC9utO+Dsd5p+RcwaMrxEDOGEQ5x7daAOuorgtV0DSfD2m6brGgWscOpteWqNeRcTXwkdVcSuOZcqxb5yeQD1ANR/wBladr0mu6lreg/8JJf2uoPawWm2FpLSNQu3yvNZVjJBDlgwJyDzgUAeg0V53ZX0F7qHhi5jubyCH+x75ftGoOhmj2mJS0jKSpYYJJzjvmoPD+kx+GdW0qHVfD1rY3FwwhGt6RMsiak5Rsi5DKshLY387xu/j9QD0uivP8AS/Bnhe3+KGpNB4b0iI29jazQlLGIeXIXly64XhuByOeBVKyij1BbLSL4btNvte1IXMTfcn2vIyxMO6k5JU8Hbg5FAHptFY2iaNo+g3l3aaIYrRHVJW0yAosUGcjesYHybsHPYlc9c5841uLRY9b8X3us+BP7d8u6Vf7S8i1YW4MEYALSOJFAJ3FlUhQc9jQB7BRXlupeH7m98ReH7K+0TQ/FFzb6ERKdXm2x7g6Aup8mXJP0HHeti/0q3hh8N+HbnTLDSNMvbiUXen6ew+zSMEZxDnYm5WOSRtG7BBBBOQDuqK8x1SLS9I0/xVpWmaDeaEsmjTyrAot0s5goKmWOOJyVY7gCSFJAGRxWp4S8MJp0kV2/gjwto5Fr8t7pku+ckqOMfZo8AjOTu/A0Ad1RXiXh6w046T4Vjs/BY0jVrmaF4vELQ2sayFTuk/eRuZCzoGAVlBbJz0NdL4j0UnXNT1e40Ky8SWm4AXcF0g1DStseGEIddo2kB+JEbLH5SeoB6RRXmms6o8d9rGoaVdSgSaBZMl0eHSN5pAZOnBCkt7YrW1HQdJ8L32jXnhuxgsLu51CO3nNsgRr1GDb/ADSOZCBl9zZIIJzyaAO1orx2K5m0Pwn4iFzKz6brE2opFkE/Z7kPKNueyuq8f7Sn+9Xrtp/x5Qf9c1/lQBLVW2/4/bz/AH1/9BFWqq23/H7ef76/+gigC1RRRQAUUUUAFFFFABRXnvjrThrviB7SOxt9Re00xpWju8BbMuzBZ4euZhsIA+Tgf6xe+bq/2TV7XUtXLtdyaZodpdaXczxfvIXbe3mr3DsVUHHpg8UAeqUVk6xbWV1o91/wkrW7aTsWSWOUFFCry3mHdhlP90jGODnNcNb6TH/wj4t1006ZoOs65CIdLeHy1W2IGQ0XRFkZNxQgcP8AMASRQB6fRXOeCoktNP1CxtlEdpZajPBbRKuFjjBBCKOygkgAcADAro6ACiiigAooooAKKKKACiiigAooooAq6d/x5j/eP86tVV07/jzH+8f51aoAKKKKACiiigAorzjxFaQT63rerzxq+o6VdWMenzMmXt1YoWCHqN5dg2Oo4Oa6Xxtpt1qmiQxW9j/aUKXUcl3p+9V+1wg/NH85CnnB2sQDjBPNAHRUV5vpy6HL4d1iLxPosdvo+majtttKlUTIhMSERCFCyO29yAi7gGI29Aa6jwPp1zpfhSC3u7c2ZMkkkVmWB+yRM5ZIeMj5VIXA4GMDgUAdBRRRQAUUUUAFFFFABRRRQAUUUUAFFFFAFVv+Qqn/AFyP86ffWVvqWn3Flex+Zb3EbRSpuI3KwwRkcjj0qvcNMNUj8hFY+Uc7jjvUu+9/54xf99mgBZNPt5Y1jcSeWsLQ7BKwUoQAQQDgnA6nkc4PJrN0fwjpegyK2nvqW1YvKWG51W6uIlTjgRySMo6enFaO+9/54xf99mjfe/8APGL/AL7NAGbZeDtD0+/ju7e1kLwndbxy3UssNscEZiidikXBI+RV4JHQ07VfCWkaxdm5u47qKZ12SPZ309qZl7CTynXzAOg3Zxk46mtDfe/88Yv++zRvvf8AnjF/32aAK8Ph3SLY2n2bT4IUsoHt7eKNdsccb43KEHy4O0dqq6d4O0TSrxLmzt5y0JJgjnvJporfOR+6jdykXBIGwDAOBxxWlvvf+eMX/fZo33v/ADxi/wC+zQAsenWsWqTaikWLqeJIpJNx+ZFJKjGccFj+dU5vDOkT6XLp8lp/o8s7XJCyurrKzFi6uDuRtxJBUgjtire+9/54xf8AfZo33v8Azxi/77NAEOk6HY6JDIlgku6Vt0k1xcSTyyHtukkZnbHQZJwOBUsOlWVvJevFAAb9/MucksJG2hOh6fKoGBS773/njF/32aN97/zxi/77NAGPL4E0KWOzRU1C3+wwm3ga11W6gZYyQdhZJAWGQMAk4xxV0eGtMOi/2VOlxdWobeDd3c08qtnIYSuxcEHkENkdsVb33v8Azxi/77NG+9/54xf99mgDLtfBOg2sN6gtJp3v4Tb3M93dzXEzxEY8vzZHZwvJ+UMACSepp2m+ENM0q5Se0n1ZiilVS41m7njwRj7kkrKfy4rS33v/ADxi/wC+zRvvf+eMX/fZoAqv4b0qTQIdFa1P2CAJ5UYlcGPYQVIcHcCCAc5zVe/8G6LqV893cwXCyS489IL2aGO4xx+9jRwsvHHzg5HB44rS33v/ADxi/wC+zRvvf+eMX/fZoAYNH09byW5FqnmTW62sgOSrRKSQm37uPmPbvVPTfCWj6Tei7tIZ2lQERfabyadYAeoiWR2EQxxhABjA6Cr++9/54xf99mjfe/8APGL/AL7NAFO48L6NdaDc6NcWSyafdO8k0LO3zMz72Oc5HzHPB47VqooRFRBhVGAPaq2+9/54xf8AfZo33v8Azxi/77NAFqqtt/x+3n++v/oIo33v/PGL/vs1Wt3vPtl3iKLO9c/Of7ooA06Kq773/njF/wB9mjfe/wDPGL/vs0AWqKq773/njF/32aN97/zxi/77NAFqiqu+9/54xf8AfZo33v8Azxi/77NAFPWPDGla7NHNqMMxkjUpuguZYC6E5KP5bLvQ/wB1sj2pL7wto+o3VrcXVn89qqpGscrxoVU5VWRSFdQRkKwIB6Cru+9/54xf99mjfe/88Yv++zQBV1jw5p2v2ctrqiXEkMrxyMsd3LFtZDlSpRgVIOD8uM4Gc1CnhPSl0ifTZPt9xbTsHb7VqVzPIrDBBSR5C6EEAgqRg89a0N97/wA8Yv8Avs0b73/njF/32aAE0zTLTR9PjstPjMcEeSAzs7MSclmZiWZiSSSSST1q3VXfe/8APGL/AL7NG+9/54xf99mgC1RVXfe/88Yv++zRvvf+eMX/AH2aALVFVd97/wA8Yv8Avs0b73/njF/32aALVFVd97/zxi/77NG+9/54xf8AfZoAtUVV33v/ADxi/wC+zRvvf+eMX/fZoAtUVV33v/PGL/vs0b73/njF/wB9mgA07/jzH+8f51arMsHvPsg2xRYyf4z61Z33v/PGL/vs0AWqKq773/njF/32aN97/wA8Yv8Avs0AWqKq773/AJ4xf99mjfe/88Yv++zQBTvfDGk6hrMGq3ds73cO3aVnkVHKklC8YYI5UklSwO08jFT3+i2Wp200F4s7pM6yErcyIyMuMFGVgYyMfwEdz3NS773/AJ4xf99mjfe/88Yv++zQBk3HgbQbnTLKwa3uY4bGZp4Ggv54ZVkYEM5lRw7MdzZLEk5Oa1dN02DSrJbW1e5kjUkhrq6luH59XkZmP58Uu+9/54xf99mjfe/88Yv++zQBaoqrvvf+eMX/AH2aN97/AM8Yv++zQBaoqrvvf+eMX/fZo33v/PGL/vs0AWqKq773/njF/wB9mjfe/wDPGL/vs0AWqKq773/njF/32aN97/zxi/77NAFqiqu+9/54xf8AfZo33v8Azxi/77NAFqiqu+9/54xf99migAb/AJCqf9cj/Oq+seINP0MRfb2uGebPlw2trLcyMB1ISJWbAyMnGBketWG/5Cqf9cj/ADrD8Z+MbPwvBbW8t7Y2l9qBZLaTULhYYY8DLO7MRwMj5RyxIA7kAG5BqdndaSup29wstm0XnLMmSCmM59fw61Adf00JpzC4Lf2ng2ipE7NICu7dtAyAByScAZ5xWRp/9lWXgBLHS9Vt9QjOnytFPHKjfaQAd8i7Tgjc3bgZArmfBMl54e/sa68WS2039safb29rexKyJauEGLbknAb7wbjcwIP8IoA9AutZ0+y1ay026uVivL/f9miYH95sGWwcYyAehqDUPE2laXb3k15cSBbOWOGYRW8krB3xsUKiksTuX7oPWud8YaQmt+NNFtGdoZfsV3JBOv3oZVaEo4+h/MZHeuVv9We/8O+I59Um/si5t9asIr2UMoFtIvkbnVnBXb/ECQRgjNAHpuk+IrLWpZI7ODUo2jUMxvNLubUH6GWNQT7DNTWWs6fqP2z7FcCX7FM0NxhWGx1GSORz9RkVylp4o0y00fUptL8cx+K7tIx5MDXNm7I7HagxbxrwzMoyc1n6Rb6v4W1mzh1nT9PtLbULE2JmtdRe4MtxGGdWYNDGAWBk5GcnFAHTWHj3QdRmtkt5L9Fu2C289xpV1BDKT0AleMIc9uee1OuPHGjW99c2ezVZ5bWTypjaaLeXCK+Acb44mUnBHQ1w2mrrEHg7wk/iDULBvDLfZmlNvZPFNAw2mHfI0rAoXChmCqenABJE9pq+kWPibxCuofEZfD8g1VmOntc2MYYbE5ImiZ+f976YoA7rUvFmk6VeJa3Ul087RiVktrGe4MSHo0nlo3lg88vjofQ1Dq3jbRNFaH7a98yTqhimtdMubmJ95wgEkUbKST0Gc8j1Fc74j1DS7LxHNdQeLR4Y1GWCLb9uWFrTU0HKkK+DJjcVPlujcjP8OZ9TmmuPh/4elubBNOle/wBPLWqRlFi/fpwFPKj2PI6UAdlYX0Wo2Ud1bpOkcgyq3FvJA4+qSAMPxAqxRRQAUUUUAFFFFABRRRQAUUUUAFVbb/j9vP8AfX/0EVaqrbf8ft5/vr/6CKALVFFFABRRRQAUUUUAZOs+JtK0Bo11OeVGkUviG2kmKIOrv5atsQZ5ZsKPWi/8UaPpt5bW13dkSXIVkMcLyIqscKzuoKopJwGYgE9DXJ+OLm0h8SOmqamuixSaW0cM5YA6gxZt1t83UfdO1Nsh3fKw5rM1a6WC01G21G3j07UNa0O0gsLIuQzyjeDCg6kqXXIHIByeOaAPStT1O00ewe81CQxwoQPlRnZiTgKqqCzMScAAEk9BVCLxfosuiz6oLmVbe3k8qVJLWVJkkyAEMLKJNxyMLtycjAORUWu+JNI8J6VeapqV2MwiJJYjc9Hb5Yxhm2puJ6nA7k8Zrj4Luwm0EeIJda0rUidbgvdVl066WW3s1ACqu4dkXYSzYzgsQo4AB6Jpmp2msafHe6fIZIJMgFkZGUg4KsrAMrAggggEHrVuuc8FSpd6fqF9bMJLS91Gee2lVsrJGSAHU91JBII4IORXR0AFFFFABRRRQAUUUUAFFFFABRRRQBV07/jzH+8f51aqrp3/AB5j/eP86tUAFFFFABRRRQBk3vifSdP1mDSru5dLubbtCwSMiFiQgeQKUQsQQoYjceBmrWqarZ6LYNeajKY4VYKNkbSO7E4CqigszE9AASa4TxFc29vret6VNIianq11YvYQl8PcKpQEoO4Qo5OOg5OBXReMHsZtKW4k1q30yXTLyOUXcqebFbyY4Ey5GFKtzll4IORQBs6fqtnqeni8tJG8nkN5sbRNGR1Do4DIR3DAEUularZa3pcGo6VcLc2dwu6KZAcOM4yM9uK8+02bWbzRL65gtbjxDZ6rqu+SXThDAJbdYlVmjWWVR5bum0fMxKknJzmug+GMzzfD7T99jNZbDIqxylDkeY3I2Mwx2/CgDrKKKKACiiigAooooAKKKKACiiigAooooAqt/wAhVP8Arkf51Hfa1p+m6hYWV9dLDcajI0VqjA/vWVdxAOMA4HepG/5Cqf8AXI/zrl/Gukwa54j8PWNwWQSC6KSocNE4jBV1PYggEfSgDe1HxJpWlRXkl7cOosvLE6xwSSMDIcIAqqSxJ4woNV7fxhpVxbXdwU1K2hs4TPNJeaTdWyhBySDJGu4+wyfavO9V1O4u9G8UNrMn9m3lndaZBeXAwqxMsqkyqXBXbghwSCBnB6Gtq71XSrzwX4mh0/x6vimX+zJmMJuLOQwgI3zAW8aHnIHzZ7dKAOv1PxRpWkfZxdS3Ektyu+KC0tJrmVk7t5cSswXkfMRjJAzk1JD4i0q4trGeC8WSO/mMFuVVjukAYlCMZUja2Q2MEYPPFcqupW3hzXL681i9tdKW/wBOtlstSvwBbqUVgYixZRkE7tu4EgnHQ4x1ubzxDp+isLuKzMniJxb6npVgLdbhPIkPnIk3mK245G47gw5HY0Aeh3viDTNOe8S8ufLaxtRd3A8tm2REsA3A5+63AyeOlV9J8W6TrN79jtGvIrgxmVIr3T7i0MiAgEp5yLvAyM7c4yM9a4TX9PudOm8Zx3ms3uqM3htGE14kCsg3TcDyo0GO/IJqzol5aX/ifTV0bxcPFkv2OZJGMtvJ/ZylRhgbdEVdzAL84JOPlIw2QDsG8ZaEmofY3u5FPm+T9oNtKLbzM7fL+0bfK37vl27s7uMZ4rTg1C1uL66s4Zd1xabPOTaRs3DK84wcj0rzxtY05fhj/wAImZo/+Ei+w/Yv7KBzc+djbv8ALHzbN3z+Zjbt+bOOa1Ytb03wr4w1YeJdSttPF5b2rwTXcoiWcohVwhbAZgccDn5hxQBr3HjfQ7eKzfzby4+2q7wLZ6dcXDsqNtY7Y42IAJAyQOtaWk6zZa5Zm606R3RXMbrLC8MkbjqrI4DKfYgV51pNlraXvhSLTJ7bTrw6XeSN/aFk8wCtLGwUoJIyrcjqeOeK6bwFI7Q6quqSode+2ltTijXYiPtAQxrknyyiqVJJJ5zzkAA62iiigAooooAKKKKACiiigAooooAKq23/AB+3n++v/oIq1VW2/wCP28/31/8AQRQBaooooAKKKKACiiigAooooAKKKKACiiigAooooAKKKKACiiigAooooAKKKKAKunf8eY/3j/OrVVdO/wCPMf7x/nVqgAooooAKKKKACiiigAooooAKKKKACiiigAooooAKKKKACiiigAooooAqt/yFU/65H+dWqoXETyapHslaP90fuj3qX7LN/wA/kn5CgC1RVX7LN/z+SfkKPss3/P5J+QoAtUVV+yzf8/kn5Cj7LN/z+SfkKALVFVfss3/P5J+Qo+yzf8/kn5CgC1RVX7LN/wA/kn5Cj7LN/wA/kn5CgC1RVX7LN/z+SfkKPss3/P5J+QoAtUVV+yzf8/kn5Cj7LN/z+SfkKALVFVfss3/P5J+Qo+yzf8/kn5CgC1RVX7LN/wA/kn5Cj7LN/wA/kn5CgC1RVX7LN/z+SfkKPss3/P5J+QoAtUVV+yzf8/kn5Cj7LN/z+SfkKALVVbb/AI/bz/fX/wBBFH2Wb/n8k/IVWt7aU3l3/pcgw684HPyigDToqr9lm/5/JPyFH2Wb/n8k/IUAWqKq/ZZv+fyT8hR9lm/5/JPyFAFqiqv2Wb/n8k/IUfZZv+fyT8hQBaoqr9lm/wCfyT8hR9lm/wCfyT8hQBaoqr9lm/5/JPyFH2Wb/n8k/IUAWqKq/ZZv+fyT8hR9lm/5/JPyFAFqiqv2Wb/n8k/IUfZZv+fyT8hQBaoqr9lm/wCfyT8hR9lm/wCfyT8hQBaoqr9lm/5/JPyFH2Wb/n8k/IUAWqKq/ZZv+fyT8hR9lm/5/JPyFAFqiqv2Wb/n8k/IUfZZv+fyT8hQAad/x5j/AHj/ADq1WZYW0ptBi7kHJ7D1qz9lm/5/JPyFAFqiqv2Wb/n8k/IUfZZv+fyT8hQBaoqr9lm/5/JPyFH2Wb/n8k/IUAWqKq/ZZv8An8k/IUfZZv8An8k/IUAWqKq/ZZv+fyT8hR9lm/5/JPyFAFqiqv2Wb/n8k/IUfZZv+fyT8hQBaoqr9lm/5/JPyFH2Wb/n8k/IUAWqKq/ZZv8An8k/IUfZZv8An8k/IUAWqKq/ZZv+fyT8hR9lm/5/JPyFAFqiqv2Wb/n8k/IUfZZv+fyT8hQBaoqr9lm/5/JPyFFAA3/IVT/rkf51W1q81W0hT+xNMgvpTkubm8+zxRqB3YI7ZPYBSOuSO9lv+Qqn/XI/zqh4lMjad9nbw4fENnPlLi0V4ckdR8kxVGGeuWBHGAewBJYa6moeE4tcigdEktftAhcgEfLnGRkfiPrWTpHjqHV/Cen6xFZtHLdXMNrPaPJ81tI7AEE45wGBHAyCD3qbSdP1Kz8FR6VdwyS3T2kwyJVZYSc7IdxOTgMFBwR8vJHGcGbwnrFtD4cl06Bcg2aatbGRRt8nBEoOcFhgoQDyCP7oyAdLceKYrfxfBojQEpKoVrnfwkxVnWPGOpRGOc8ccc1W1LxkdOur5WsN8Fje21tNL52NqTBf3mNvRSw49OcisS58G69d6Xdaousahb6pNc/2gmmBbXyRKhHlxl/LL/dVVJEmOvOK1l8PXGqf8JRFqdsYINYSJY9zqxH7gKehOCrfy4oAseIPFraLc30UFgLsWOmvfzsZtm3BwifdP3sPz229DmrOkXviW6uEOr6RpVpaOm7zLXVJJ5AccDY1ug/Hd+dcza6B4gvfh/4ibW7FF17VYHhFskyONqR+XGobIX5sFuTxvNXvCem6fp2oJ9h+HD+HZWi2SXywWCA/7JMMrOckemKANLWNd1e38RW+kaFpVleyyWrXLveX72yqAwXA2wyZPPtSReLBL4OOtGyKz72gW083IknEnlhFfHKl+A2OhzgdKx/F+hR3/jCyv9Q8Gf8ACUWUdjJDs8u0k8mQupB23EidQDyM1FZ+GNdvbHTLGea70S1guJr5fIkgme2+b9xb/Osi/KrE8Aqu0BTgCgDch8WrLDot21oEsNTPlSTmU5trg8LGy7ehYMu7IwwUY+bite+MbsWpn0jS4bpJdRTT7R7i7MKztkh3JEblVDAgHB3YJ4GCc+TwvqsPhbxVoDmfVYruKSaxubkwq0ksikshCBFUiQbgdoHzDnINWvFfh83PhDSLCHQV1W3s7q3ebTVEOHjQEEYlZUOPQmgDQn17V9H0K/1PxLpVlbpaoHRLDUGuDJ2wS8MYXkjnnv6VZ0nU9YmvDa67pENm7R+bFLZXTXUJAIBVnaKPa3OQMEEZ54IrH0uyFtomo23h7wFDoDOFY213FaRw3nZlP2eR+duRlhjkdRmofCmhSWPiI3eleH7rwtpZhdbjTpZ4jHNKSu144YZHjjwA2SNpORkHrQB29FFFABRRRQAUUUUAFFFFABVW2/4/bz/fX/0EVaqrbf8AH7ef76/+gigC1RRRQAUUUUAFFFFAHN+JfFNzot0YLDTobx4bR765M939nCwocHYdjbn9jtHqwqDVPGr2dxm003z7S2tYry/lln8p7eKQkLtTad7AKxKkrgDqTxVbxZpN7da6tydEk121Nr5drEk0SfYbkM37/wDeMuDhgN6ZddvA5qnqOgeIFguLLyX1KTV9Mt7G5vkljVbeRNweRwxDEEOSNoY5GCBnNAHY3+oTR20w0iCLUL6PYBbG4WMLu6F25KrjJyATgHAPSsEeMryPTrxLrSYk1i2vo7AWkd4XhklkCshEpjB27WBJKZGDweM6XiG+1my0W5/4R7SZb69TYkI3xANuOGcBnXO0c7SVzwAe45610m9i8MxPZ6Hqsd/Z6il9Kmo3FsbjUX/5aNujkZASCQASoGABtUDAB1Ogau+sae8txbra3UEz29zAkvmLHIhwQHwNw6EHAOD0HStOsTwtZ3dvp91cajbta3F9eSXRt3dWaEMQFUlSVJCgZwSM9z1rboAKKKKACiiigAooooAKKKKACiiigCrp3/HmP94/zq1VXTv+PMf7x/nVqgAooooAKo63qseiaJdalOjSLbxlvLXq56BR7kkD8avVk+J9On1XwzeWlnt+0OgaIMcAurBgCe2SMZoAboGs3WpteWuq2MVjqFk6rNDDcGePDKGVlcqpOQe6jBB69TQk8W3K6tdBNMjOkWd0llPeNdbZRK20fLFswUBdQSXB64U45foK6kbvVNZv9JubOS9khSOxeWF5URF27mKuU6sxwGJwPXisTxB4T/tfxJJHB4fngFzdQT3GpLf/AOiyLGVbc1vvGZvkChvLOBg7+MAA6I+KYz40h8PRWVyS8Ekr3boUiBTZ8ikj5z84yRwOmc8DdrDvtOupvHGkahHFm1t7S5jlk3D5WcxbRjOTna3T0rcoAKKKKACiiigAooooAKKKKACiiigAooooAqOwXVU3ED90ep96s+Yn99fzqnPBHNqqeagbERxn61N9gtf+eCflQBN5if31/OjzE/vr+dQ/YLX/AJ4J+VH2C1/54J+VAE3mJ/fX86PMT++v51D9gtf+eCflR9gtf+eCflQBN5if31/OjzE/vr+dQ/YLX/ngn5UfYLX/AJ4J+VAE3mJ/fX86PMT++v51D9gtf+eCflR9gtf+eCflQBN5if31/OjzE/vr+dQ/YLX/AJ4J+VH2C1/54J+VAE3mJ/fX86PMT++v51D9gtf+eCflR9gtf+eCflQBN5if31/OjzE/vr+dQ/YLX/ngn5UfYLX/AJ4J+VAE3mJ/fX86PMT++v51D9gtf+eCflR9gtf+eCflQBN5if31/OjzE/vr+dQ/YLX/AJ4J+VH2C1/54J+VAE3mJ/fX86PMT++v51D9gtf+eCflR9gtf+eCflQBN5if31/OqttIn2y8+dfvr3/2RUn2C1/54J+VVreytjeXYMK4Drjj/ZFAF/zE/vr+dHmJ/fX86h+wWv8AzwT8qPsFr/zwT8qAJvMT++v50eYn99fzqH7Ba/8APBPyo+wWv/PBPyoAm8xP76/nR5if31/OofsFr/zwT8qPsFr/AM8E/KgCbzE/vr+dHmJ/fX86h+wWv/PBPyo+wWv/ADwT8qAJvMT++v50eYn99fzqH7Ba/wDPBPyo+wWv/PBPyoAm8xP76/nR5if31/OofsFr/wA8E/Kj7Ba/88E/KgCbzE/vr+dHmJ/fX86h+wWv/PBPyo+wWv8AzwT8qAJvMT++v50eYn99fzqH7Ba/88E/Kj7Ba/8APBPyoAm8xP76/nR5if31/OofsFr/AM8E/Kj7Ba/88E/KgCbzE/vr+dHmJ/fX86h+wWv/ADwT8qPsFr/zwT8qAJvMT++v50eYn99fzqH7Ba/88E/Kj7Ba/wDPBPyoAj0+RPsY+dfvHv71a8xP76/nVDT7K2a0BMKnk9verP2C1/54J+VAE3mJ/fX86PMT++v51D9gtf8Angn5UfYLX/ngn5UATeYn99fzo8xP76/nUP2C1/54J+VH2C1/54J+VAE3mJ/fX86PMT++v51D9gtf+eCflR9gtf8Angn5UATeYn99fzo8xP76/nUP2C1/54J+VH2C1/54J+VAE3mJ/fX86PMT++v51D9gtf8Angn5UfYLX/ngn5UATeYn99fzo8xP76/nUP2C1/54J+VH2C1/54J+VAE3mJ/fX86PMT++v51D9gtf+eCflR9gtf8Angn5UATeYn99fzo8xP76/nUP2C1/54J+VH2C1/54J+VAE3mJ/fX86PMT++v51D9gtf8Angn5UfYLX/ngn5UATeYn99fzoqH7Ba/88E/KigBrf8hVP+uR/nVPxJqk+maS/wBgVXv5wY7VH5XftJ3N/sqAWP0x3q43/IVT/rkf51R17wvp/iIRteteRTQxukUtrfT25UNjOfKddw4HB9KAINI1O7uvh1aapPLuvJNMWdpdoGXMe7OAMde2MVz9nca7pOiaFr114kvdUivGto7u0vLe2CYm2rujMUSMpVmB5LAjIxnBHQ6T4afR/CdroEF6ZLeGyNs8kweR3YqAGBZzgdfl56gAgCs3T/CGsfZ9Kste1y0u9P0tonigstOa3aVoxhPMZppMgHDYULyBzjggGJpmt3eo6tdpeeJfFMEi6nNbpBY6EstqqLKVUed9kcYwBkmTjnJFdDI+reIde1O20/WrjSLbS3SBTbQQu88pQOS5lRxsAZQAoU9eemG2Ph7xNpMtzHpevaStnNdy3IjuNIlkkXzHLld63Kg9SAdoq5eaBqcWr3GoeHtVt7B70L9riurI3COyjaHQCRCrYwCSWBwOOOQCvLqWt2+v6NYXDW5nn066kuIoR+6kmTy9pBYbgMsePfvjNY/hPX7y61a0tr7xDctqkyb73RtWsltDEMEk2w8pWkVWGM7pBt/izyegPhTN1p0randyfY7Ke1aWRyZpTLszJ5gI2sNnYd+MYqCDw1q897Ytr+twahbabN59ssVh5MzuFKqZZDIwbhjnaqZPPA4oAzbDX9W1Sw07T470w3moXl6j3qxIWghhlcfIpG0tjYoLAjqSDTdZ1fWfDlhrenvqsl7PDpMl/ZX88MQmVlJDK4RVjbBKkYUcZBzjNakXg97XSraOz1ARahZ3U91a3bQblUyu7FHj3DcuHwQGBOAQQabP4QutS0/Vf7Z1SO41LUrM2X2iC1MUMEfOAkRdj1bJy5yQOgAFAFWw8T6hdRaHb3WLfUPt/wBk1KIAEPiCRww9FbCuCMcHHrVjx8uqW2gTanpOvX2mSWyqPKt4rd0k3Ooy3mxOc4PYirF94QhuvE+ka3DcmCaw+WdFjyLpQjKgPPBUuxB56kVo+INI/t3QrjTvP8jztv7zZu24YN0yPT1oA5TxPez+HJtDsdT8c3Wm211LP5+p3X2KN22oCiZaHywM+i5PrWfN4pv4/B+t3Gm+Ip9Utba9tobTWoLeGWSRHeMSqgjj8uRl3EAqh5OMEg13d7pH2zXdM1Hz9n2Dzf3ezPmb129c8Yx6GsS/8F3EtjqVlpuqRWlpdXEN3bQPaGRbWZZBI+MOuUZlB2jbgljnnAAM5NWubfwzr9/ZeIPEd7PaWEkkf9s6OtosbhSQy5tYt5yOmWHqOaseEb576+hL+IvFV83kb3g1PRBawHgf8tPskeTk8APz71pTaJ4h1PR9S07XNZ0yaG9tZIEaz0uSFo2YY3HdcOGAz0wPrU+kWHiezmhTVNZ0m6s402mO30mWGQ4GB85uHA/75/KgDdooooAKKKKACiiigAqrbf8AH7ef76/+girVVbb/AI/bz/fX/wBBFAFqiiigAooooAKKKKAOJ8cazqVjqCW9jqVxYqtm88f2S3jnaWUH5VmDK3lw8cyHYAerrxUOta7rYkvLu1vRbR6Pp0F7LBAkckd477iyFmBIUKnBUqcnOT0ra1nw5fXmrPqGjapDYTXFsLS6E9oZw8YJIKfOu1xubk7hzypxVK78Bho47XTb9bXT5LOGxvYZbfzXnhiJ2hX3DY2CwJIbg8AHmgDfvkvb+0mt7C4l0xyE23gjjkODy2wEkBgOMspAJBw3SuPt9b1h9Mu7G11iS8Laymm2urtFD5m0gGU4VBGzIRIgOzGV5BIOem8RaTqmr6NdWGmatFppm2BJfszOVQH51OJFJ3DjKlSMnBzyKCeF9Rbw3Fps1/pcM1lLHLpz2GltDDb+XjaDEZm3DqMBl4PGDzQBe8LXl3cafdW+oztdXFjeSWpuHRVaYKQVYhQFBKkZwAM9h0rbrM0DSH0fT3iuLhbq6nme4uZ0i8tZJHOSQuTtHQAZJwOp61p0AFFFFABRRRQAUUUUAFFFFABRRRQBV07/AI8x/vH+dWqq6d/x5j/eP86tUAFFFFABWT4o1G40rwze3liFNyiBYdwyA7MFUkexINa1Uda0uPWtFutOmdo1uE2h1AJQ9QwB9CAfwoAzfDU2oQ3+qaRqd/LqT2LRNHdzRxpI6yJnDCNVXghhkKOMdep5jUfGUun+J9Q+168baazvobeHQvJj/f27mMGflfNbl2+dWCLtwRwa6vR9E1DT1vLm81G2u9UvZUaa4SzMUW1AFCrH5hI+UHkueTnpxUep+H9Q1bU0F3q0baMs8dwbL7JiUuhBVfODY2blDY2Fv9rHFAGJp3iWXUPFj+br9xax/b5LOHTzp4a2cRkqQ0+ziZiCwHmDjHyHqe7rmD4Rm/tIKNQi/sb7b/aBsvsv73z92/8A1u/Gzf8ANt2Zz/FjiunoAKKKKACiiigAooooAKKKKACiiigAooooAoXE6wapGXDHMR+6ue9S/wBoRf3Jf+/Zob/kKp/1yP8AOrVAFX+0Iv7kv/fs0f2hF/cl/wC/Zq1RQBV/tCL+5L/37NH9oRf3Jf8Av2atUUAVf7Qi/uS/9+zR/aEX9yX/AL9mrVFAFX+0Iv7kv/fs0f2hF/cl/wC/Zq1RQBV/tCL+5L/37NH9oRf3Jf8Av2atUUAVf7Qi/uS/9+zR/aEX9yX/AL9mrVFAFX+0Iv7kv/fs0f2hF/cl/wC/Zq1RQBV/tCL+5L/37NH9oRf3Jf8Av2atUUAVf7Qi/uS/9+zR/aEX9yX/AL9mrVFAFX+0Iv7kv/fs0f2hF/cl/wC/Zq1RQBV/tCL+5L/37NVre+iF5dnbJy6/wH+6K06q23/H7ef76/8AoIoAP7Qi/uS/9+zR/aEX9yX/AL9mrVFAFX+0Iv7kv/fs0f2hF/cl/wC/Zq1RQBV/tCL+5L/37NH9oRf3Jf8Av2atUUAVf7Qi/uS/9+zR/aEX9yX/AL9mrVFAFX+0Iv7kv/fs0f2hF/cl/wC/Zq1RQBV/tCL+5L/37NH9oRf3Jf8Av2atUUAVf7Qi/uS/9+zR/aEX9yX/AL9mrVFAFX+0Iv7kv/fs0f2hF/cl/wC/Zq1RQBV/tCL+5L/37NH9oRf3Jf8Av2atUUAVf7Qi/uS/9+zR/aEX9yX/AL9mrVFAFX+0Iv7kv/fs0f2hF/cl/wC/Zq1RQBmWF/EtoAVl6n+A+tWf7Qi/uS/9+zRp3/HmP94/zq1QBV/tCL+5L/37NH9oRf3Jf+/Zq1RQBV/tCL+5L/37NH9oRf3Jf+/Zq1RQBV/tCL+5L/37NH9oRf3Jf+/Zq1RQBV/tCL+5L/37NH9oRf3Jf+/Zq1RQBV/tCL+5L/37NH9oRf3Jf+/Zq1RQBV/tCL+5L/37NH9oRf3Jf+/Zq1RQBV/tCL+5L/37NH9oRf3Jf+/Zq1RQBV/tCL+5L/37NH9oRf3Jf+/Zq1RQBV/tCL+5L/37NH9oRf3Jf+/Zq1RQBV/tCL+5L/37NFWqKAKrf8hVP+uR/nXN+OdGvtbn0iG20LTtbtIZ5Jrm31OcRwcRlU3fu5CTliQNh5HUV0jf8hVP+uR/nVfV9A0/XFjF+k4eLOya1upbaVQeoEkTK2DgZGcHAz0oAzrC6tLv4eyvp9gmmwJazRCzjQKsBTcjIoUAYBU4I4IrgPDNjpqT+EINM8Ff8I5qMiRznVmhtYhcxpH+8QNC7M7OD9xgOMt/DXqkWi2EFlFZwQmK1hga3SCORlTYQAQVBwTx1PI555NR3Hh/TLrS7TT5bdvs9k0b24SZ0aIx/cIcENxjHXkZByCaAOA1PxLbx+ODreNR22N4tgHTS7hoDbH5ZWMwj8sYlbJO7/lkBVmO6n0Px74j1sysdNa8gtb+PBIjUwR7Jh6bWYhv9ls/w13K6Jp66E2jfZ82DRNE0LOx3K2c5YnJJyec5pINC022ivI47bKXwAuRI7P5oCCMZ3E/wqB7/WgDz7SdG0rXbrwdba1ptnqVuui3DrFdwLMgbfFggMCM8nn3qdyNNh1XQtMla10iPW7W0AgcoLaKVUaSJCPuDc2MDGN+BiuofwJoDWWm2kUN5axaXB9mtDZ6jcW7xx8fLvjkVmHyj7xPStC28PaVa6M+lR2aNZS582OYmUyk9WdmJZ2PdmJJ9aAOdm0bTfC3ijR4fDNhb6bFfCeO7tbOMRRyIsZYSMi4BZWCjdjOGxmuM0/afho3hCViy6jCkyKpIItpIjLL+G6OReP7wr1DSvDGl6PK81pHcSzunlme8vJrqRU/uq8rsyr32ggZ5oj8K6LFJbyR2CCS2s2sYX3sWSBsbkznPO0c9fegDntSGfgTKMA/8SEcHv8Auaq2WjyeGvC2r6rZeD/DmiX8OnM1vPpDCSSQhCfm/cR4GQDjLZrtJNGsJdCOjSQZsDB9nMO9v9Xjbt3Zz075zVxUVIwij5QMAe1AHBanoWk6FoFhrmiW8UWrNPaZv4x+/vt8iKyyuOZAwY/eJGcHsK5nV7fRkuPFd1qXgP8AtSZtSeJNZMNrtgZkRVLSM4lQKSCWC/L1r0q08H6JY6gl3b2su6Jt0MUl1LJBbt6xQsxjjPJGUUcE+tXo9IsIob2JbdTHfu0lyrEsJGZQrZye4AGBxQB5/rWgT6h4y0y1u9B0PxPPb6GolOsSbEDeYAXT9zLkk+wrT1nwz5+j6Np1rovh4fZ2kml8OST7LOcYwSMRfNtZlYExYyexwa2ZvA2iTrZjGpQtZ24tYZLfVrqF/KByFZkkBf8A4ESamm8I6TcaZBYzi9kW2cvDO2o3BuYyeu243+aM9MbunHTigDndL0rQNb8Lalp2oeHEhGnzMW0nUYYZ47CQxAgQ7cqEw2RjpuPC9BpfDjRNK0rwNpMul6ZZ2Ul1YwPcPbW6xmZtg+ZioG48nk+tbmn6LYaXYPZ2cLCKUkytJK8kkpIwWeRiWZsYGSSeB6VYsbK303T7eyso/Lt7eNYok3E7VUYAyeTx60AT0UUUAFFFFABVW2/4/bz/AH1/9BFWqq23/H7ef76/+gigC1RRRQAUUUUAFVNVuEtNGvbiWR4khgd2kjGWUBScgeoq3SOiyRskih0YEMrDII9CKAPI7O3k8NaPqEkNvFpV3deH5JojZ8/a2QAtczYxif5xx8/U/vG6DqvDmmw6N4g1PSvD6QWVsbC1uFQQHyxMxkVnKgjJYKpPIJIyTmtrTPCWi6QJhZ2rsJo/JIuLiScLF/zzTzGbYn+wuF9qfpvhnS9Isp7XT47iNLjHmO13K8hAGABIzFwAOAAQB2xQBzni/RtLvtYgi0/T47jxPPJFLHe43SWESsMybzkxJhWAVcbySMHLGqF9bxNr9/rbIrapba/a2cFwY/njgYRBogeu0iRyR0yc9RXVXHgvR7nWZtUJ1KG7uGRpWttWuoFkKjC5RJApwParMnhrSpddTWJLdzeJgg+fIIywGA5j3bCwBwGILAd6ANUdKKKKACiiigAooooAKKKKACiiigAooooAq6d/x5j/AHj/ADq1VXTv+PMf7x/nVqgAooooAKwfG8kkXgvUTDI0RdFjLpnKqzBWIx7E1vVFd2sF9ZzWt5Es0EyGOSNhkMpGCKAOc8KWFpo2ua7pOk28dpp1u8DxW0KbI4meP5toHAzgE47knqa5fxDZXuka9f6tN4fFxeyalamx1vzo/wB1AzxoYOT5i9XGxVKNuyTycd5pvhzTtJ097OwS4SOSQSySPdyySuwxgtKzFzwoGCcYGOnFMk8L6TLrg1eS3ka6VxIB9ok8reBgSeVu8suBxv27unNAHO3Hhbw/f/E2B4dD0yKfT4xqFzdR2kazSzOSseXA3cbXY88nbXc1XhsLa3vrm8ij2z3WwTPuJ3bRheCcDAJ6VYoAKKKKACiiigAooooAKKKKACiiigAooooAqTx3AvEmgVGATaQxx3pd97/zxi/77NFFABvvf+eMX/fZo33v/PGL/vs0UUAG+9/54xf99mjfe/8APGL/AL7NFFABvvf+eMX/AH2aN97/AM8Yv++zRRQAb73/AJ4xf99mjfe/88Yv++zRRQAb73/njF/32aN97/zxi/77NFFABvvf+eMX/fZo33v/ADxi/wC+zRRQAb73/njF/wB9mjfe/wDPGL/vs0UUAG+9/wCeMX/fZo33v/PGL/vs0UUAG+9/54xf99mjfe/88Yv++zRRQAb73/njF/32aN97/wA8Yv8Avs0UUAG+9/54xf8AfZqKJL6OeaTyoj5jA/fPGAB/SiigCXfe/wDPGL/vs0b73/njF/32aKKADfe/88Yv++zRvvf+eMX/AH2aKKADfe/88Yv++zRvvf8AnjF/32aKKADfe/8APGL/AL7NG+9/54xf99miigA33v8Azxi/77NG+9/54xf99miigA33v/PGL/vs0b73/njF/wB9miigA33v/PGL/vs0b73/AJ4xf99miigA33v/ADxi/wC+zRvvf+eMX/fZoooAN97/AM8Yv++zRvvf+eMX/fZoooAN97/zxi/77NG+9/54xf8AfZoooAN97/zxi/77NG+9/wCeMX/fZoooAitkvoIQhiiPJP3zUu+9/wCeMX/fZoooAN97/wA8Yv8Avs0b73/njF/32aKKADfe/wDPGL/vs0b73/njF/32aKKADfe/88Yv++zRvvf+eMX/AH2aKKADfe/88Yv++zRvvf8AnjF/32aKKADfe/8APGL/AL7NG+9/54xf99miigA33v8Azxi/77NG+9/54xf99miigA33v/PGL/vs0b73/njF/wB9miigA33v/PGL/vs0b73/AJ4xf99miigA33v/ADxi/wC+zRvvf+eMX/fZoooAN97/AM8Yv++zRRRQB//Z)"
      ]
    },
    {
      "cell_type": "markdown",
      "metadata": {
        "id": "Cpy4bIIuZvxt"
      },
      "source": [
        "**Plot the graph using Train size and Accuracy score**"
      ]
    },
    {
      "cell_type": "code",
      "metadata": {
        "id": "7__TdTz4T-W3"
      },
      "source": [
        "Total=[50,60,70,80,90]\n",
        "L=[89,90,91,92,93]\n",
        "D=[93,93,95,96,97]\n",
        "K=[90,92,92,93,94]\n",
        "N=[88,89,90,90,92]\n",
        "R=[95,96,97,98,98]\n",
        "\n",
        "plt.plot(Total,L,label=\"Logistic Regression\")\n",
        "plt.plot(Total,D,label=\"Decision Tree\")\n",
        "plt.plot(Total,K,label=\"KNN-Classifier\")\n",
        "plt.plot(Total,N,label=\"Naive Bayes\")\n",
        "plt.plot(Total,R,label=\"Random Forest\")\n",
        "plt.xlabel(\"Training Size\")\n",
        "plt.ylabel(\"Accuracy Score\")\n",
        "plt.plot(xlabel=\"Train-Size\",  ylabel=\"Accuracy-Score\")\n",
        "\n",
        "plt.legend()\n",
        "plt.show()"
      ],
      "execution_count": null,
      "outputs": []
    },
    {
      "cell_type": "markdown",
      "metadata": {
        "id": "h93PzPs5JGXJ"
      },
      "source": [
        "**Traditional Methods**"
      ]
    },
    {
      "cell_type": "code",
      "metadata": {
        "id": "xRNxksvbJCYT"
      },
      "source": [
        "data_set = generate_data_set(\"https://www.google.com\")\n",
        "\n",
        "# Reshape the array\n",
        "data_set = np.array(data_set).reshape(1, -1)\n",
        "# Create and train the classifier\n",
        "#classifier = RandomForestClassifier(n_estimators=500, max_depth=15, max_leaf_nodes=10000)\n",
        "forest.fit(X_train, y_train)\n",
        "\n",
        "print(forest.predict(data_set))"
      ],
      "execution_count": null,
      "outputs": []
    },
    {
      "cell_type": "markdown",
      "metadata": {
        "id": "kaJklUZUJNVf"
      },
      "source": [
        "**Efficient Method**"
      ]
    },
    {
      "cell_type": "code",
      "metadata": {
        "id": "LQq8kXqSvzue"
      },
      "source": [
        "data=pd.read_csv(\"drive/My Drive/Ai/URL.csv\")"
      ],
      "execution_count": null,
      "outputs": []
    },
    {
      "cell_type": "code",
      "metadata": {
        "id": "CtdZfOiwaKFc"
      },
      "source": [
        "data[\"Class\"].replace({\"good\":\"0\",\"bad\":\"1\"}, inplace=True)"
      ],
      "execution_count": null,
      "outputs": []
    },
    {
      "cell_type": "code",
      "metadata": {
        "id": "dVIwHvsbaa13"
      },
      "source": [
        "data=data.iloc[:20000,:]"
      ],
      "execution_count": null,
      "outputs": []
    },
    {
      "cell_type": "code",
      "metadata": {
        "id": "0DQEnJPKwp6-"
      },
      "source": [
        "data.head()"
      ],
      "execution_count": null,
      "outputs": []
    },
    {
      "cell_type": "code",
      "metadata": {
        "id": "pcAiE-PNansX"
      },
      "source": [
        "def makeTokens(f):\n",
        "    tkns_BySlash = str(f.encode('utf-8')).split('/')\n",
        "    total_Tokens = []\n",
        "    for i in tkns_BySlash:\n",
        "        tokens = str(i).split('-')\n",
        "        tkns_ByDot = []\n",
        "        for j in range(0,len(tokens)):\n",
        "            temp_Tokens = str(tokens[j]).split('.')\t\n",
        "            tkns_ByDot = tkns_ByDot + temp_Tokens\n",
        "        total_Tokens = total_Tokens + tokens + tkns_ByDot\n",
        "    total_Tokens = list(set(total_Tokens))\n",
        "    if 'com' in total_Tokens:\n",
        "        total_Tokens.remove('com')\n",
        "    return total_Tokens\n",
        "print(\"Done\")"
      ],
      "execution_count": null,
      "outputs": []
    },
    {
      "cell_type": "code",
      "metadata": {
        "id": "kY8b5QPkasJY"
      },
      "source": [
        "# Labels which indicate if an URL is spam or ham\n",
        "y_output = data[\"Class\"]\n",
        "url_list = data[\"URLs\"]\n",
        "vectorizer = TfidfVectorizer(tokenizer=makeTokens)\n",
        "X_input = vectorizer.fit_transform(url_list)\n",
        "train_x, test_x, train_y, test_y = train_test_split(X_input, y_output, test_size=0.2, random_state=42)"
      ],
      "execution_count": null,
      "outputs": []
    },
    {
      "cell_type": "code",
      "metadata": {
        "id": "fEDElTwTbjIY"
      },
      "source": [
        "forest.fit(train_x, train_y)"
      ],
      "execution_count": null,
      "outputs": []
    },
    {
      "cell_type": "code",
      "metadata": {
        "id": "yPj9hCrgek3_"
      },
      "source": [
        "sample=input()"
      ],
      "execution_count": null,
      "outputs": []
    },
    {
      "cell_type": "code",
      "metadata": {
        "id": "lh6chWGad9bH"
      },
      "source": [
        "predict1 = [sample]"
      ],
      "execution_count": null,
      "outputs": []
    },
    {
      "cell_type": "code",
      "metadata": {
        "id": "xzfAZ7zXeGf3"
      },
      "source": [
        "predict1 = vectorizer.transform(predict1)\n",
        "predict_output = forest.predict(predict1)\n",
        "print(predict_output)"
      ],
      "execution_count": null,
      "outputs": []
    },
    {
      "cell_type": "code",
      "metadata": {
        "id": "nADWIqBVCwZN"
      },
      "source": [
        ""
      ],
      "execution_count": null,
      "outputs": []
    },
    {
      "cell_type": "code",
      "metadata": {
        "id": "gIW4WqddARJK"
      },
      "source": [
        "#www.unitedairlineslogistics.com\n",
        "#www.buyfakebillsonlinee.blogspot.com"
      ],
      "execution_count": null,
      "outputs": []
    }
  ]
}